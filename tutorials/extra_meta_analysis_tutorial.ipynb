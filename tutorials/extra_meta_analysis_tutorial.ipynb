{
 "cells": [
  {
   "cell_type": "markdown",
   "metadata": {},
   "source": [
    "# Set working directory"
   ]
  },
  {
   "cell_type": "code",
   "execution_count": 2,
   "metadata": {},
   "outputs": [
    {
     "name": "stdout",
     "output_type": "stream",
     "text": [
      "Python 3.7.4\r\n"
     ]
    }
   ],
   "source": [
    "import os\n",
    "cwd = os.path.split(os.getcwd())\n",
    "if cwd[-1] == 'tutorials':\n",
    "    os.chdir('..')\n",
    "    print(f'Changed directory to {os.getcwd()}')\n",
    "!python --version"
   ]
  },
  {
   "cell_type": "markdown",
   "metadata": {},
   "source": [
    "# Import modules"
   ]
  },
  {
   "cell_type": "code",
   "execution_count": 3,
   "metadata": {},
   "outputs": [],
   "source": [
    "from meta_analysis.find_riskiest_software import load_graph_network, riskiest_software, riskiest_software_network_specific\n",
    "from meta_analysis.sum_unique_cves import load_graph_network, count_unique_cves, count_unique_cves_network_specific\n",
    "from meta_analysis.meta_analysis_scripts.count_bron_contents import count_contents"
   ]
  },
  {
   "cell_type": "markdown",
   "metadata": {},
   "source": [
    "# Extra meta-analysis\n",
    "\n",
    "This notebook contains _extra_ meta-analysis files that can be run on BRON_db and network-specific BRON_db. Make sure to first build the BRON_db before running the meta-analysis. A tutorial on how to build BRON is available in the tutorials folder."
   ]
  },
  {
   "cell_type": "markdown",
   "metadata": {},
   "source": [
    "# Find riskiest software\n",
    "\n",
    "This file finds the software (listed as an Affected Platform Configuration) that has the highest sum of CVSS scores in a BRON_db or network-specific BRON_db. If this file is used for a network-specific BRON_db, it finds the highest sum of CVSS scores for only Affected Platform Configurations which are connected to other nodes. The file outputs the highest CVSS score and the software with the score. To find the riskiest software, run the following command:\n",
    "```\n",
    "python -m meta_analysis.find_riskiest_software --db_path DB_PATH --network_specific (optional)\n",
    "```\n",
    "`DB_PATH` is file path of a BRON_db or network-specific BRON_db. If BRON_db is network-specific, add the argument `--network_specific`."
   ]
  },
  {
   "cell_type": "code",
   "execution_count": 4,
   "metadata": {},
   "outputs": [
    {
     "name": "stdout",
     "output_type": "stream",
     "text": [
      "74.50000000000001 {'freerdp', 'lexiglot'}\n"
     ]
    },
    {
     "data": {
      "text/plain": [
       "(74.50000000000001, {'freerdp', 'lexiglot'})"
      ]
     },
     "execution_count": 4,
     "metadata": {},
     "output_type": "execute_result"
    }
   ],
   "source": [
    "db_path = 'data/BRON_db.json'\n",
    "graph = load_graph_network(db_path)\n",
    "riskiest_software(graph)"
   ]
  },
  {
   "cell_type": "markdown",
   "metadata": {},
   "source": [
    "# Sum CVSS scores of unique Vulnerabilities\n",
    "\n",
    "This file sums the CVSS scores of unique Vulnerabilities that exist in BRON_db. In the case of a network-specific BRON_db, this file sums the CVSS scores of unique Vulnerabilities for each node in the network. For example, if a Vulnerability connects to two Affected Platform Configurations and the two Affected Platform Configurations connect to the same node, then the CVSS score of that Vulnerability will be counted only once. To sum the CVSS scores of unique Vulnerabilities, run the following command:\n",
    "```\n",
    "python -m meta_analysis.sum_unique_cves --db_path DB_PATH --network_specific (optional)\n",
    "```\n",
    "`DB_PATH` is file path of a BRON_db or network-specific BRON_db. If BRON_db is network-specific, add the argument `--network_specific`."
   ]
  },
  {
   "cell_type": "code",
   "execution_count": 5,
   "metadata": {},
   "outputs": [
    {
     "name": "stdout",
     "output_type": "stream",
     "text": [
      "1013.9999999999999\n"
     ]
    },
    {
     "data": {
      "text/plain": [
       "1013.9999999999999"
      ]
     },
     "execution_count": 5,
     "metadata": {},
     "output_type": "execute_result"
    }
   ],
   "source": [
    "db_path = 'data/BRON_db.json'\n",
    "graph = load_graph_network(db_path)\n",
    "count_unique_cves(graph)"
   ]
  },
  {
   "cell_type": "markdown",
   "metadata": {},
   "source": [
    "# Count contents of BRON_db\n",
    "\n",
    "This file counts the connections between data types in BRON_db. To count contents of BRON_db, run the following command:\n",
    "```\n",
    "python meta_analysis/meta_analysis_scripts/count_bron_contents.py --data_summary_folder_path DATA_SUMMARY_FOLDER_PATH --all_versions (optional) --all_years (optional)\n",
    "```\n",
    "`DATA_SUMMARY_FOLDER_PATH` is the folder path containing subfolders of the data summaries for all data types. To consider all versions of Affected Platform Configurations, add the argument `--all_versions`. To consider all years of Vulnerability data, add the argument `--all_years`."
   ]
  },
  {
   "cell_type": "code",
   "execution_count": 6,
   "metadata": {},
   "outputs": [
    {
     "name": "stdout",
     "output_type": "stream",
     "text": [
      "tactic dict  {'floating': 0, 'above_only': 12, 'below_only': 0, 'both': 0}\n",
      "technique dict  {'floating': 1, 'above_only': 195, 'below_only': 0, 'both': 70}\n",
      "capec dict  {'floating': 128, 'above_only': 14, 'below_only': 325, 'both': 52}\n",
      "cwe dict  {'floating': 0, 'above_only': 212, 'below_only': 9, 'both': 30}\n",
      "cve dict  {'floating': 73, 'above_only': 0, 'below_only': 4, 'both': 140}\n",
      "cpe dict  {'floating': 0, 'above_only': 277, 'below_only': 0, 'both': 0}\n"
     ]
    }
   ],
   "source": [
    "data_summary_folder_path = 'data'\n",
    "all_versions = True\n",
    "all_years = True\n",
    "count_contents(data_summary_folder_path, all_versions, all_years)"
   ]
  },
  {
   "cell_type": "code",
   "execution_count": null,
   "metadata": {},
   "outputs": [],
   "source": []
  }
 ],
 "metadata": {
  "@webio": {
   "lastCommId": null,
   "lastKernelId": null
  },
  "kernelspec": {
   "display_name": "Python 3",
   "language": "python",
   "name": "python3"
  },
  "language_info": {
   "codemirror_mode": {
    "name": "ipython",
    "version": 3
   },
   "file_extension": ".py",
   "mimetype": "text/x-python",
   "name": "python",
   "nbconvert_exporter": "python",
   "pygments_lexer": "ipython3",
   "version": "3.7.4"
  }
 },
 "nbformat": 4,
 "nbformat_minor": 2
}
