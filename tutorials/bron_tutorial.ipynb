{
 "cells": [
  {
   "cell_type": "markdown",
   "metadata": {},
   "source": [
    "# Set working directory"
   ]
  },
  {
   "cell_type": "code",
   "execution_count": 2,
   "metadata": {},
   "outputs": [
    {
     "name": "stdout",
     "output_type": "stream",
     "text": [
      "Python 3.7.4\r\n"
     ]
    }
   ],
   "source": [
    "import os\n",
    "cwd = os.path.split(os.getcwd())\n",
    "if cwd[-1] == 'tutorials':\n",
    "    os.chdir('..')\n",
    "    print(f'Changed directory to {os.getcwd()}')\n",
    "!python --version"
   ]
  },
  {
   "cell_type": "markdown",
   "metadata": {},
   "source": [
    "# Import modules"
   ]
  },
  {
   "cell_type": "code",
   "execution_count": 3,
   "metadata": {},
   "outputs": [],
   "source": [
    "from BRON_db.build_BRON_db import build_graph\n",
    "from path_search.path_search_BRON_db import main_attack\n",
    "from utils.bron_network_utils import load_graph_nodes"
   ]
  },
  {
   "cell_type": "markdown",
   "metadata": {},
   "source": [
    "# Build BRON"
   ]
  },
  {
   "cell_type": "markdown",
   "metadata": {},
   "source": [
    "The different types of threat data can be linked together in a graph-based format called BRON_db. To create a new BRON_db using input threat data, run the following command:\n",
    "```\n",
    "python BRON_db/build_BRON_db.py --data_folder DATA_FOLDER --save_path FILE_NAME --only_recent_cves (optional)\n",
    "``` \n",
    "`DATA_FOLDER` is the folder path of input data, and `FILE_NAME` is the file path to save BRON_db. To make BRON_db using only recent CVEs, add the argument `--only_recent_cves`. An example BRON_db using input threat data in the `example_data` folder can be found in `data/BRON_db.json`."
   ]
  },
  {
   "cell_type": "code",
   "execution_count": 4,
   "metadata": {},
   "outputs": [],
   "source": [
    "save_path = 'data/BRON_db.json'\n",
    "input_data_folder = 'example_data'\n",
    "build_graph(save_path, input_data_folder)"
   ]
  },
  {
   "cell_type": "markdown",
   "metadata": {},
   "source": [
    "# Network specific BRON"
   ]
  },
  {
   "cell_type": "markdown",
   "metadata": {},
   "source": [
    "In addition to creating graph-like databases of the threat data, BRON can create graphs that connect to specific nodes of a given network configuration. These databases are called \"network_specific_BRON_db\". Note that \"network_specific_BRON_db\" contain all the node information as a non-network-specific BRON_db (described above). A comparison of the data links between the two types of BRON_db can be seen below:\n",
    "\n",
    "Data links shown in non-network-specific graph (BRON_db):\n",
    "```\n",
    "TACTIC --> TECHNIQUE --> CAPEC --> CWE --> CVE --> CPE\n",
    "```\n",
    "Data links shown in network-specific graphs (network_specific_BRON_db):\n",
    "```\n",
    "TACTIC --> TECHNIQUE --> CAPEC --> CWE --> CVE --> CPE --> Network Node\n",
    "```"
   ]
  },
  {
   "cell_type": "markdown",
   "metadata": {},
   "source": [
    "# Structure of BRON_db"
   ]
  },
  {
   "cell_type": "markdown",
   "metadata": {},
   "source": [
    "Each entry of threat data is a node in BRON_db and has 4 attributes. The node has a unique name in BRON\\_db that is of the form (threat data type)\\_(unique 5 digit id) where the threat data type is either tactic, technique, capec, cwe, cve, cpe, or network-node.\n",
    "\n",
    "Additionally, there are four attributes for each node:\n",
    "- Original_id: ID of threat data in MITRE/NIST if it exists\n",
    "- Datatype: One of tactic, technique, capec, cwe, cve, cpe, or network-node\n",
    "- Name: Name of threat data in MITRE/NIST if exists\n",
    "- Metadata: Any additional information that is contained in MITRE/NIST "
   ]
  },
  {
   "cell_type": "markdown",
   "metadata": {},
   "source": [
    "# Find paths in BRON_db"
   ]
  },
  {
   "cell_type": "markdown",
   "metadata": {},
   "source": [
    "Once the BRON_db is built, it can be searched for paths that contain certain data types or specific nodes. The path search starts with an initial set of starting points and then finds all the paths in BRON_db from those starting points. A severity score based on the CVSS score is calculated for each path that is found. To find paths on a non-network-specific BRON_db, run the following command:\n",
    "```\n",
    "python -m path_search.path_search_BRON_db --db_path DB_PATH --starting_point STARTING_POINT --starting_point_type STARTING_POINT_TYPE --results_file RESULTS_FILE --length (optional) --network_specific (optional)\n",
    "```\n",
    "`DB_PATH` is the file path of the BRON_db that is being searched, `STARTING_POINT` is the file path of the CSV file that contains the IDs of the starting point(s), `STARTING_POINT_TYPE` is the data type of the starting points (either tactic, technique, capec, cwe, cve, or cpe), and `RESULTS_FILE` is the file path to store the CSV results file.\n",
    "\n",
    "To make the results contain only the _number_ of nodes in a path (instead of a set of node names), add the argument `--length`. If the BRON_db that is being searched is network_specific, then add the argument `--network_specific`.\n",
    "\n",
    "The output of path search is a CSV file that shows how the different data types are related to each other. The paths start at the type of argument and then follow the graph to find the connections to other data. For example, if my input file consisted of three CAPECs: 100, 105, 200, then we would see all of the Tactics, Techniques, CWEs, CVEs, and CPEs associated with each CAPEC individually. The final row contains the total count of each data type in BRON_db.\n",
    "\n",
    "An example starting point file and its path search result can be found in `example_data`."
   ]
  },
  {
   "cell_type": "code",
   "execution_count": 5,
   "metadata": {},
   "outputs": [
    {
     "data": {
      "text/html": [
       "<div>\n",
       "<style scoped>\n",
       "    .dataframe tbody tr th:only-of-type {\n",
       "        vertical-align: middle;\n",
       "    }\n",
       "\n",
       "    .dataframe tbody tr th {\n",
       "        vertical-align: top;\n",
       "    }\n",
       "\n",
       "    .dataframe thead th {\n",
       "        text-align: right;\n",
       "    }\n",
       "</style>\n",
       "<table border=\"1\" class=\"dataframe\">\n",
       "  <thead>\n",
       "    <tr style=\"text-align: right;\">\n",
       "      <th></th>\n",
       "      <th>tactic</th>\n",
       "      <th>technique</th>\n",
       "      <th>capec</th>\n",
       "      <th>cwe</th>\n",
       "      <th>cve</th>\n",
       "      <th>risk_score</th>\n",
       "      <th>cpe</th>\n",
       "      <th>attack</th>\n",
       "      <th>Node Type</th>\n",
       "    </tr>\n",
       "  </thead>\n",
       "  <tbody>\n",
       "    <tr>\n",
       "      <td>0</td>\n",
       "      <td>{tactic_00008}</td>\n",
       "      <td>{technique_00216, technique_00188, technique_0...</td>\n",
       "      <td>{capec_00286, capec_00302, capec_00301, capec_...</td>\n",
       "      <td>{cwe_00520, cwe_00409, cwe_00521, cwe_00987, c...</td>\n",
       "      <td>{cve_01167, cve_01459, cve_01045, cve_01536}</td>\n",
       "      <td>25.70</td>\n",
       "      <td>{cpe_01044, cpe_01168, cpe_01533, cpe_01458}</td>\n",
       "      <td>NaN</td>\n",
       "      <td>connected</td>\n",
       "    </tr>\n",
       "    <tr>\n",
       "      <td>1</td>\n",
       "      <td>{tactic_00014}</td>\n",
       "      <td>{technique_00027, technique_00212, technique_0...</td>\n",
       "      <td>{capec_00295, capec_00336, capec_00293, capec_...</td>\n",
       "      <td>{cwe_00914, cwe_00412, cwe_00502, cwe_00346}</td>\n",
       "      <td>{cve_01144, cve_01464, cve_01475, cve_01498, c...</td>\n",
       "      <td>101.50</td>\n",
       "      <td>{cpe_01137, cpe_01120, cpe_01250, cpe_01469, c...</td>\n",
       "      <td>NaN</td>\n",
       "      <td>connected</td>\n",
       "    </tr>\n",
       "    <tr>\n",
       "      <td>2</td>\n",
       "      <td>{tactic_00012}</td>\n",
       "      <td>{technique_00216, technique_00036, technique_0...</td>\n",
       "      <td>{capec_00303, capec_00291, capec_00301, capec_...</td>\n",
       "      <td>{cwe_00359, cwe_00651, cwe_00373, cwe_00449, c...</td>\n",
       "      <td>{cve_01143, cve_01081, cve_01254, cve_01457, c...</td>\n",
       "      <td>101.95</td>\n",
       "      <td>{cpe_01431, cpe_01289, cpe_01299, cpe_01412, c...</td>\n",
       "      <td>NaN</td>\n",
       "      <td>connected</td>\n",
       "    </tr>\n",
       "    <tr>\n",
       "      <td>3</td>\n",
       "      <td>12</td>\n",
       "      <td>266</td>\n",
       "      <td>519</td>\n",
       "      <td>251</td>\n",
       "      <td>217</td>\n",
       "      <td>1014.00</td>\n",
       "      <td>277</td>\n",
       "      <td>0.0</td>\n",
       "      <td>Total Number</td>\n",
       "    </tr>\n",
       "  </tbody>\n",
       "</table>\n",
       "</div>"
      ],
      "text/plain": [
       "           tactic                                          technique  \\\n",
       "0  {tactic_00008}  {technique_00216, technique_00188, technique_0...   \n",
       "1  {tactic_00014}  {technique_00027, technique_00212, technique_0...   \n",
       "2  {tactic_00012}  {technique_00216, technique_00036, technique_0...   \n",
       "3              12                                                266   \n",
       "\n",
       "                                               capec  \\\n",
       "0  {capec_00286, capec_00302, capec_00301, capec_...   \n",
       "1  {capec_00295, capec_00336, capec_00293, capec_...   \n",
       "2  {capec_00303, capec_00291, capec_00301, capec_...   \n",
       "3                                                519   \n",
       "\n",
       "                                                 cwe  \\\n",
       "0  {cwe_00520, cwe_00409, cwe_00521, cwe_00987, c...   \n",
       "1       {cwe_00914, cwe_00412, cwe_00502, cwe_00346}   \n",
       "2  {cwe_00359, cwe_00651, cwe_00373, cwe_00449, c...   \n",
       "3                                                251   \n",
       "\n",
       "                                                 cve  risk_score  \\\n",
       "0       {cve_01167, cve_01459, cve_01045, cve_01536}       25.70   \n",
       "1  {cve_01144, cve_01464, cve_01475, cve_01498, c...      101.50   \n",
       "2  {cve_01143, cve_01081, cve_01254, cve_01457, c...      101.95   \n",
       "3                                                217     1014.00   \n",
       "\n",
       "                                                 cpe  attack     Node Type  \n",
       "0       {cpe_01044, cpe_01168, cpe_01533, cpe_01458}     NaN     connected  \n",
       "1  {cpe_01137, cpe_01120, cpe_01250, cpe_01469, c...     NaN     connected  \n",
       "2  {cpe_01431, cpe_01289, cpe_01299, cpe_01412, c...     NaN     connected  \n",
       "3                                                277     0.0  Total Number  "
      ]
     },
     "execution_count": 5,
     "metadata": {},
     "output_type": "execute_result"
    }
   ],
   "source": [
    "db_path = save_path # use same BRON_db created above\n",
    "starting_point = 'example_data/starting_point_tactic.csv'\n",
    "starting_point_type = 'tactic'\n",
    "results_file = 'data/search_result_tactic.csv'\n",
    "length = False\n",
    "network_specific = False\n",
    "main_attack(db_path, starting_point, results_file, starting_point_type, length, network_specific)"
   ]
  },
  {
   "cell_type": "code",
   "execution_count": null,
   "metadata": {},
   "outputs": [],
   "source": []
  }
 ],
 "metadata": {
  "@webio": {
   "lastCommId": null,
   "lastKernelId": null
  },
  "kernelspec": {
   "display_name": "Python 3",
   "language": "python",
   "name": "python3"
  },
  "language_info": {
   "codemirror_mode": {
    "name": "ipython",
    "version": 3
   },
   "file_extension": ".py",
   "mimetype": "text/x-python",
   "name": "python",
   "nbconvert_exporter": "python",
   "pygments_lexer": "ipython3",
   "version": "3.7.4"
  }
 },
 "nbformat": 4,
 "nbformat_minor": 2
}
