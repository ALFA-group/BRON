{
 "cells": [
  {
   "cell_type": "markdown",
   "metadata": {},
   "source": [
    "# Set working directory"
   ]
  },
  {
   "cell_type": "code",
   "execution_count": 2,
   "metadata": {},
   "outputs": [
    {
     "name": "stdout",
     "output_type": "stream",
     "text": [
      "Python 3.7.4\r\n"
     ]
    }
   ],
   "source": [
    "import os\n",
    "cwd = os.path.split(os.getcwd())\n",
    "if cwd[-1] == 'tutorials':\n",
    "    os.chdir('..')\n",
    "    print(f'Changed directory to {os.getcwd()}')\n",
    "!python --version"
   ]
  },
  {
   "cell_type": "markdown",
   "metadata": {},
   "source": [
    "# Import modules"
   ]
  },
  {
   "cell_type": "code",
   "execution_count": 3,
   "metadata": {},
   "outputs": [],
   "source": [
    "from download_threat_information.download_threat_data import _download_attack, _download_capec, _download_cwe, _download_cve, main\n",
    "from download_threat_information.parsing_scripts.parse_attack_tactic_technique import link_tactic_techniques\n",
    "from download_threat_information.parsing_scripts.parse_cve import parse_cve_file\n",
    "from download_threat_information.parsing_scripts.parse_capec_cwe import parse_capec_cwe_files"
   ]
  },
  {
   "cell_type": "markdown",
   "metadata": {},
   "source": [
    "# Download threat data\n",
    "\n",
    "The threat data from MITRE and NIST need to be downloaded and parsed before building BRON. To download the threat data, run the following command:\n",
    "```\n",
    "python download_threat_information/download_threat_data.py --threat_data_type THREAT_DATA_TYPE (optional) --only_recent_cves (optional)\n",
    "```\n",
    "Not adding either of the optional arguments downloads data for all threat data types and all CVE data from 1999-2020 inclusive. To download threat data for only one threat data type, add the argument `--threat_data_type` and the name of the data type. `THREAT_DATA_TYPE` can be either 'ATTACK', 'CAPEC', 'CWE', or 'CVE'. To download only recent CVE data from 2015-2020 inclusive, add the argument `--only_recent_cves`.\n",
    "\n",
    "In this tutorial, we download threat data for all threat data types and all CVE data from 1999-2020. Note that the years start at 2002 because the CVE data from 1999-2002 are all contained in the CVE data from 2002."
   ]
  },
  {
   "cell_type": "code",
   "execution_count": 4,
   "metadata": {},
   "outputs": [],
   "source": [
    "cve_years = ['2002', '2003', '2004', '2005', '2006', '2007', '2008', '2009', '2010', '2011',\n",
    "             '2012', '2013', '2014', '2015', '2016', '2017', '2018', '2019', '2020']\n",
    "main(cve_years)"
   ]
  },
  {
   "cell_type": "markdown",
   "metadata": {},
   "source": [
    "# Parse ATT&CK Tactic and Technique data\n",
    "\n",
    "To parse the ATT&CK Tactic and Technique data, run the following command:\n",
    "```\n",
    "python download_threat_information/parsing_scripts/parse_attack_tactic_technique.py --filename FILENAME --save_path SAVE_PATH\n",
    "```\n",
    "`FILENAME` is the file path to `raw_enterprise_attack.json`, and `SAVE_PATH` is the folder path to save parsed threat data."
   ]
  },
  {
   "cell_type": "code",
   "execution_count": 5,
   "metadata": {},
   "outputs": [],
   "source": [
    "filename = 'download_threat_information/raw_enterprise_attack.json'\n",
    "out_path = 'download_threat_information'\n",
    "link_tactic_techniques(filename, out_path)"
   ]
  },
  {
   "cell_type": "markdown",
   "metadata": {},
   "source": [
    "# Parse Vulnerability (CVE) data\n",
    "\n",
    "To parse the Vulnerability data, run the following command:\n",
    "```\n",
    "python download_threat_information/parsing_scripts/parse_cve.py --cve_path CVE_PATH --save_path SAVE_PATH --only_recent_cves (optional)\n",
    "```\n",
    "`CVE_PATH` is the file path to `raw_CVE.json.gz`, and `SAVE_PATH` is the folder path to save parsed threat data. If the CVE data use only recent CVEs from 2015-2020, then add the argument `--only_recent_cves`. The folder to save parsed Vulnerability data should be the same folder that contains parsed Tactic and Technique data."
   ]
  },
  {
   "cell_type": "code",
   "execution_count": 6,
   "metadata": {},
   "outputs": [],
   "source": [
    "cve_path = 'download_threat_information/raw_CVE.json.gz'\n",
    "save_path = 'download_threat_information'\n",
    "only_recent_cves = False\n",
    "if only_recent_cves:\n",
    "    save_path_file = \"cve_map_cpe_cwe_score_2015_2020.json\"\n",
    "else:\n",
    "    save_path_file = \"cve_map_cpe_cwe_score.json\"\n",
    "save_file = os.path.join(save_path, save_path_file)\n",
    "parse_cve_file(cve_path, save_file)"
   ]
  },
  {
   "cell_type": "markdown",
   "metadata": {},
   "source": [
    "# Parse Attack Pattern (CAPEC) and Weakness (CWE) data\n",
    "\n",
    "To parse the Attack Pattern and Weakness data, run the following command:\n",
    "```\n",
    "python download_threat_information/parsing_scripts/parse_capec_cwe.py --capec_file CAPEC_FILE --cwe_file CWE_FILE --save_path SAVE_PATH\n",
    "```\n",
    "`CAPEC_FILE` is the file path to `raw_CAPEC.json`, `CWE_FILE` is the file path to `raw_CWE.zip`, and `SAVE_PATH` is the folder path to save parsed threat data. The folder to save parsed Attack Pattern and Weakness data should be the same folder that contains parsed Tactic and Technique data."
   ]
  },
  {
   "cell_type": "code",
   "execution_count": 7,
   "metadata": {},
   "outputs": [],
   "source": [
    "capec_file = 'download_threat_information/raw_CAPEC.json'\n",
    "cwe_file = 'download_threat_information/raw_CWE.zip'\n",
    "save_path = 'download_threat_information'\n",
    "parse_capec_cwe_files(capec_file, cwe_file, save_path)"
   ]
  },
  {
   "cell_type": "code",
   "execution_count": null,
   "metadata": {},
   "outputs": [],
   "source": []
  }
 ],
 "metadata": {
  "@webio": {
   "lastCommId": null,
   "lastKernelId": null
  },
  "kernelspec": {
   "display_name": "Python 3",
   "language": "python",
   "name": "python3"
  },
  "language_info": {
   "codemirror_mode": {
    "name": "ipython",
    "version": 3
   },
   "file_extension": ".py",
   "mimetype": "text/x-python",
   "name": "python",
   "nbconvert_exporter": "python",
   "pygments_lexer": "ipython3",
   "version": "3.7.4"
  }
 },
 "nbformat": 4,
 "nbformat_minor": 2
}
