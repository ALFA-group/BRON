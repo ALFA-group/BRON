{
 "cells": [
  {
   "cell_type": "markdown",
   "metadata": {},
   "source": [
    "**Note**; This notebook might take some time to run since it uses the entire data downloaded for BRON. (There is a tutorial that deals with only a subset of the data in `bron_tutorial`)"
   ]
  },
  {
   "cell_type": "markdown",
   "metadata": {},
   "source": [
    "# Set working directory"
   ]
  },
  {
   "cell_type": "code",
   "execution_count": 1,
   "metadata": {},
   "outputs": [
    {
     "name": "stdout",
     "output_type": "stream",
     "text": [
      "Python 3.8.2\r\n"
     ]
    }
   ],
   "source": [
    "import os\n",
    "cwd = os.path.split(os.getcwd())\n",
    "if cwd[-1] == 'tutorials':\n",
    "    os.chdir('..')\n",
    "!python --version"
   ]
  },
  {
   "cell_type": "markdown",
   "metadata": {},
   "source": [
    "# Import modules"
   ]
  },
  {
   "cell_type": "code",
   "execution_count": 2,
   "metadata": {},
   "outputs": [],
   "source": [
    "import json\n",
    "\n",
    "from BRON.build_BRON import build_graph, BRON_PATH\n",
    "from path_search.path_search_BRON import main_attack\n",
    "from meta_analysis.make_data_summary import load_graph_network, main_data_summary\n",
    "from utils.bron_network_utils import load_graph_nodes\n",
    "from meta_analysis.meta_analysis_scripts.vendor_tactic_and_cvss import bron_id_to_cpe_id, cve_to_risk, make_heat_map\n",
    "from utils.tutorial_util import print_files_in_folder"
   ]
  },
  {
   "cell_type": "markdown",
   "metadata": {},
   "source": [
    "# Build BRON"
   ]
  },
  {
   "cell_type": "code",
   "execution_count": 5,
   "metadata": {},
   "outputs": [],
   "source": [
    "# Path to save BRON output\n",
    "save_path = 'full_data/full_output_data'\n",
    "os.makedirs(save_path, exist_ok=True)\n",
    "# Path to the downloaded threat information\n",
    "input_data_folder = 'download_threat_information'\n",
    "BRON_original_id_to_bron_id_path = os.path.join(save_path, BRON_PATH)\n",
    "os.makedirs(BRON_original_id_to_bron_id_path, exist_ok=True)"
   ]
  },
  {
   "cell_type": "code",
   "execution_count": 7,
   "metadata": {},
   "outputs": [],
   "source": [
    "build_graph(save_path, input_data_folder)"
   ]
  },
  {
   "cell_type": "code",
   "execution_count": 8,
   "metadata": {},
   "outputs": [
    {
     "name": "stdout",
     "output_type": "stream",
     "text": [
      "('full_data/full_output_data/BRON/original_id_to_bron_id/tactic_name_to_bron_id.json '\n",
      " '1608148551.606767')\n",
      "('full_data/full_output_data/BRON/original_id_to_bron_id/technique_id_to_bron_id.json '\n",
      " '1608148551.6134753')\n",
      "('full_data/full_output_data/BRON/original_id_to_bron_id/capec_id_to_bron_id.json '\n",
      " '1608148551.6285572')\n",
      "('full_data/full_output_data/BRON/original_id_to_bron_id/cwe_id_to_bron_id.json '\n",
      " '1608148566.8801901')\n",
      "('full_data/full_output_data/BRON/original_id_to_bron_id/cve_id_bron_id.json '\n",
      " '1608148567.0693045')\n",
      "('full_data/full_output_data/BRON/original_id_to_bron_id/cpe_id_bron_id.json '\n",
      " '1608148567.4512568')\n"
     ]
    }
   ],
   "source": [
    "print_files_in_folder(BRON_original_id_to_bron_id_path)"
   ]
  },
  {
   "cell_type": "markdown",
   "metadata": {},
   "source": [
    "# Structure of BRON"
   ]
  },
  {
   "cell_type": "markdown",
   "metadata": {},
   "source": [
    "Each entry of threat data is a node in BRON that has 4 attributes. The node has a unique name in BRON of the form (threat data type)\\_(unique 5 digit id) where the threat data type is either Tactic, Technique, CAPEC, CWE, CVE, or CPE.\n",
    "\n",
    "There are 4 attributes for each node:\n",
    "- Original_id: ID of threat data in MITRE/NIST if it exists\n",
    "- Datatype: One of Tactic, Technique, CAPEC, CWE, CVE, or CPE\n",
    "- Name: Name of threat data in MITRE/NIST if it exists\n",
    "- Metadata: Any additional information that is contained in MITRE/NIST "
   ]
  },
  {
   "cell_type": "markdown",
   "metadata": {},
   "source": [
    "# Find paths in BRON"
   ]
  },
  {
   "cell_type": "code",
   "execution_count": 9,
   "metadata": {},
   "outputs": [
    {
     "data": {
      "text/html": [
       "<div>\n",
       "<style scoped>\n",
       "    .dataframe tbody tr th:only-of-type {\n",
       "        vertical-align: middle;\n",
       "    }\n",
       "\n",
       "    .dataframe tbody tr th {\n",
       "        vertical-align: top;\n",
       "    }\n",
       "\n",
       "    .dataframe thead th {\n",
       "        text-align: right;\n",
       "    }\n",
       "</style>\n",
       "<table border=\"1\" class=\"dataframe\">\n",
       "  <thead>\n",
       "    <tr style=\"text-align: right;\">\n",
       "      <th></th>\n",
       "      <th>tactic</th>\n",
       "      <th>technique</th>\n",
       "      <th>capec</th>\n",
       "      <th>cwe</th>\n",
       "      <th>cve</th>\n",
       "      <th>risk_score</th>\n",
       "      <th>cpe</th>\n",
       "      <th>attack</th>\n",
       "      <th>Node Type</th>\n",
       "    </tr>\n",
       "  </thead>\n",
       "  <tbody>\n",
       "    <tr>\n",
       "      <th>0</th>\n",
       "      <td>{tactic_378253}</td>\n",
       "      <td>100</td>\n",
       "      <td>23</td>\n",
       "      <td>33</td>\n",
       "      <td>23887</td>\n",
       "      <td>142563.30</td>\n",
       "      <td>86893</td>\n",
       "      <td>NaN</td>\n",
       "      <td>connected</td>\n",
       "    </tr>\n",
       "    <tr>\n",
       "      <th>1</th>\n",
       "      <td>{tactic_378210}</td>\n",
       "      <td>36</td>\n",
       "      <td>18</td>\n",
       "      <td>11</td>\n",
       "      <td>7440</td>\n",
       "      <td>37074.15</td>\n",
       "      <td>30929</td>\n",
       "      <td>NaN</td>\n",
       "      <td>connected</td>\n",
       "    </tr>\n",
       "    <tr>\n",
       "      <th>2</th>\n",
       "      <td>{tactic_378208}</td>\n",
       "      <td>151</td>\n",
       "      <td>29</td>\n",
       "      <td>52</td>\n",
       "      <td>24181</td>\n",
       "      <td>144419.80</td>\n",
       "      <td>87238</td>\n",
       "      <td>NaN</td>\n",
       "      <td>connected</td>\n",
       "    </tr>\n",
       "    <tr>\n",
       "      <th>3</th>\n",
       "      <td>14</td>\n",
       "      <td>665</td>\n",
       "      <td>579</td>\n",
       "      <td>376</td>\n",
       "      <td>154545</td>\n",
       "      <td>929015.55</td>\n",
       "      <td>221329</td>\n",
       "      <td>0.0</td>\n",
       "      <td>Total Number</td>\n",
       "    </tr>\n",
       "  </tbody>\n",
       "</table>\n",
       "</div>"
      ],
      "text/plain": [
       "            tactic  technique  capec  cwe     cve  risk_score     cpe  attack  \\\n",
       "0  {tactic_378253}        100     23   33   23887   142563.30   86893     NaN   \n",
       "1  {tactic_378210}         36     18   11    7440    37074.15   30929     NaN   \n",
       "2  {tactic_378208}        151     29   52   24181   144419.80   87238     NaN   \n",
       "3               14        665    579  376  154545   929015.55  221329     0.0   \n",
       "\n",
       "      Node Type  \n",
       "0     connected  \n",
       "1     connected  \n",
       "2     connected  \n",
       "3  Total Number  "
      ]
     },
     "execution_count": 9,
     "metadata": {},
     "output_type": "execute_result"
    }
   ],
   "source": [
    "starting_point_type = 'tactic'\n",
    "starting_point = f'example_data/example_input_data/starting_point_{starting_point_type}.csv'\n",
    "results_file = os.path.join(save_path, f'search_result_{starting_point_type}.csv')\n",
    "length = True\n",
    "main_attack(BRON_folder_path=save_path,\n",
    "            args_file=starting_point,\n",
    "            results_name=results_file,\n",
    "            arg_type=starting_point_type,\n",
    "            length=length)"
   ]
  },
  {
   "cell_type": "code",
   "execution_count": 10,
   "metadata": {},
   "outputs": [
    {
     "data": {
      "text/html": [
       "<div>\n",
       "<style scoped>\n",
       "    .dataframe tbody tr th:only-of-type {\n",
       "        vertical-align: middle;\n",
       "    }\n",
       "\n",
       "    .dataframe tbody tr th {\n",
       "        vertical-align: top;\n",
       "    }\n",
       "\n",
       "    .dataframe thead th {\n",
       "        text-align: right;\n",
       "    }\n",
       "</style>\n",
       "<table border=\"1\" class=\"dataframe\">\n",
       "  <thead>\n",
       "    <tr style=\"text-align: right;\">\n",
       "      <th></th>\n",
       "      <th>tactic</th>\n",
       "      <th>technique</th>\n",
       "      <th>capec</th>\n",
       "      <th>cwe</th>\n",
       "      <th>cve</th>\n",
       "      <th>risk_score</th>\n",
       "      <th>cpe</th>\n",
       "      <th>attack</th>\n",
       "      <th>Node Type</th>\n",
       "    </tr>\n",
       "  </thead>\n",
       "  <tbody>\n",
       "    <tr>\n",
       "      <th>0</th>\n",
       "      <td>{tactic_378253}</td>\n",
       "      <td>{technique_378361, technique_378648, technique...</td>\n",
       "      <td>{capec_378912, capec_378915, capec_378914, cap...</td>\n",
       "      <td>{cwe_379040, cwe_379155, cwe_379678, cwe_37915...</td>\n",
       "      <td>{cve_679016, cve_640186, cve_589521, cve_73040...</td>\n",
       "      <td>142563.30</td>\n",
       "      <td>{cpe_540943, cpe_614529, cpe_632506, cpe_38295...</td>\n",
       "      <td>NaN</td>\n",
       "      <td>connected</td>\n",
       "    </tr>\n",
       "    <tr>\n",
       "      <th>1</th>\n",
       "      <td>{tactic_378210}</td>\n",
       "      <td>{technique_378592, technique_378614, technique...</td>\n",
       "      <td>{capec_378886, capec_378935, capec_378951, cap...</td>\n",
       "      <td>{cwe_378965, cwe_378968, cwe_379068, cwe_37904...</td>\n",
       "      <td>{cve_533493, cve_642920, cve_621104, cve_67726...</td>\n",
       "      <td>37074.15</td>\n",
       "      <td>{cpe_401826, cpe_540943, cpe_733737, cpe_72552...</td>\n",
       "      <td>NaN</td>\n",
       "      <td>connected</td>\n",
       "    </tr>\n",
       "    <tr>\n",
       "      <th>2</th>\n",
       "      <td>{tactic_378208}</td>\n",
       "      <td>{technique_378435, technique_378361, technique...</td>\n",
       "      <td>{capec_378912, capec_378949, capec_378941, cap...</td>\n",
       "      <td>{cwe_379230, cwe_379047, cwe_379040, cwe_37915...</td>\n",
       "      <td>{cve_679016, cve_640186, cve_589521, cve_73040...</td>\n",
       "      <td>144419.80</td>\n",
       "      <td>{cpe_540943, cpe_614529, cpe_632506, cpe_38295...</td>\n",
       "      <td>NaN</td>\n",
       "      <td>connected</td>\n",
       "    </tr>\n",
       "    <tr>\n",
       "      <th>3</th>\n",
       "      <td>14</td>\n",
       "      <td>665</td>\n",
       "      <td>579</td>\n",
       "      <td>376</td>\n",
       "      <td>154545</td>\n",
       "      <td>929015.55</td>\n",
       "      <td>221329</td>\n",
       "      <td>0.0</td>\n",
       "      <td>Total Number</td>\n",
       "    </tr>\n",
       "  </tbody>\n",
       "</table>\n",
       "</div>"
      ],
      "text/plain": [
       "            tactic                                          technique  \\\n",
       "0  {tactic_378253}  {technique_378361, technique_378648, technique...   \n",
       "1  {tactic_378210}  {technique_378592, technique_378614, technique...   \n",
       "2  {tactic_378208}  {technique_378435, technique_378361, technique...   \n",
       "3               14                                                665   \n",
       "\n",
       "                                               capec  \\\n",
       "0  {capec_378912, capec_378915, capec_378914, cap...   \n",
       "1  {capec_378886, capec_378935, capec_378951, cap...   \n",
       "2  {capec_378912, capec_378949, capec_378941, cap...   \n",
       "3                                                579   \n",
       "\n",
       "                                                 cwe  \\\n",
       "0  {cwe_379040, cwe_379155, cwe_379678, cwe_37915...   \n",
       "1  {cwe_378965, cwe_378968, cwe_379068, cwe_37904...   \n",
       "2  {cwe_379230, cwe_379047, cwe_379040, cwe_37915...   \n",
       "3                                                376   \n",
       "\n",
       "                                                 cve  risk_score  \\\n",
       "0  {cve_679016, cve_640186, cve_589521, cve_73040...   142563.30   \n",
       "1  {cve_533493, cve_642920, cve_621104, cve_67726...    37074.15   \n",
       "2  {cve_679016, cve_640186, cve_589521, cve_73040...   144419.80   \n",
       "3                                             154545   929015.55   \n",
       "\n",
       "                                                 cpe  attack     Node Type  \n",
       "0  {cpe_540943, cpe_614529, cpe_632506, cpe_38295...     NaN     connected  \n",
       "1  {cpe_401826, cpe_540943, cpe_733737, cpe_72552...     NaN     connected  \n",
       "2  {cpe_540943, cpe_614529, cpe_632506, cpe_38295...     NaN     connected  \n",
       "3                                             221329     0.0  Total Number  "
      ]
     },
     "execution_count": 10,
     "metadata": {},
     "output_type": "execute_result"
    }
   ],
   "source": [
    "length = False\n",
    "main_attack(BRON_folder_path=save_path,\n",
    "            args_file=starting_point,\n",
    "            results_name=results_file,\n",
    "            arg_type=starting_point_type,\n",
    "            length=length)"
   ]
  },
  {
   "cell_type": "code",
   "execution_count": 12,
   "metadata": {},
   "outputs": [
    {
     "data": {
      "text/html": [
       "<div>\n",
       "<style scoped>\n",
       "    .dataframe tbody tr th:only-of-type {\n",
       "        vertical-align: middle;\n",
       "    }\n",
       "\n",
       "    .dataframe tbody tr th {\n",
       "        vertical-align: top;\n",
       "    }\n",
       "\n",
       "    .dataframe thead th {\n",
       "        text-align: right;\n",
       "    }\n",
       "</style>\n",
       "<table border=\"1\" class=\"dataframe\">\n",
       "  <thead>\n",
       "    <tr style=\"text-align: right;\">\n",
       "      <th></th>\n",
       "      <th>tactic</th>\n",
       "      <th>technique</th>\n",
       "      <th>capec</th>\n",
       "      <th>cwe</th>\n",
       "      <th>cve</th>\n",
       "      <th>risk_score</th>\n",
       "      <th>cpe</th>\n",
       "      <th>attack</th>\n",
       "      <th>Node Type</th>\n",
       "    </tr>\n",
       "  </thead>\n",
       "  <tbody>\n",
       "    <tr>\n",
       "      <th>0</th>\n",
       "      <td>{}</td>\n",
       "      <td>{technique_378193}</td>\n",
       "      <td>{}</td>\n",
       "      <td>{}</td>\n",
       "      <td>{}</td>\n",
       "      <td>0.00</td>\n",
       "      <td>{}</td>\n",
       "      <td>NaN</td>\n",
       "      <td>connected</td>\n",
       "    </tr>\n",
       "    <tr>\n",
       "      <th>1</th>\n",
       "      <td>14</td>\n",
       "      <td>665</td>\n",
       "      <td>579</td>\n",
       "      <td>376</td>\n",
       "      <td>154545</td>\n",
       "      <td>929015.55</td>\n",
       "      <td>221329</td>\n",
       "      <td>0.0</td>\n",
       "      <td>Total Number</td>\n",
       "    </tr>\n",
       "  </tbody>\n",
       "</table>\n",
       "</div>"
      ],
      "text/plain": [
       "  tactic           technique capec  cwe     cve  risk_score     cpe  attack  \\\n",
       "0     {}  {technique_378193}    {}   {}      {}        0.00      {}     NaN   \n",
       "1     14                 665   579  376  154545   929015.55  221329     0.0   \n",
       "\n",
       "      Node Type  \n",
       "0     connected  \n",
       "1  Total Number  "
      ]
     },
     "execution_count": 12,
     "metadata": {},
     "output_type": "execute_result"
    }
   ],
   "source": [
    "starting_point_type = 'technique'\n",
    "starting_point = f'example_data/example_input_data/starting_point_{starting_point_type}.csv'\n",
    "results_file = os.path.join(save_path, f'search_result_{starting_point_type}.csv')\n",
    "length = False\n",
    "main_attack(BRON_folder_path=save_path,\n",
    "            args_file=starting_point,\n",
    "            results_name=results_file,\n",
    "            arg_type=starting_point_type,\n",
    "            length=length)"
   ]
  },
  {
   "cell_type": "code",
   "execution_count": 13,
   "metadata": {},
   "outputs": [
    {
     "name": "stdout",
     "output_type": "stream",
     "text": [
      "tactic\n",
      "technique\n",
      "capec\n",
      "cwe\n",
      "cve\n",
      "cpe\n"
     ]
    }
   ],
   "source": [
    "# Path to BRON data\n",
    "BRON_path = os.path.join(save_path, 'BRON.json')\n",
    "save_folder = os.path.join(save_path, 'all_cves_all_versions')\n",
    "os.makedirs(save_folder, exist_ok=True)\n",
    "not_all_cpe_versions = False\n",
    "# Load the BRON graph\n",
    "graph = load_graph_network(BRON_path, not_all_cpe_versions)\n",
    "\n",
    "datatypes = [\"tactic\", \"technique\", \"capec\", \"cwe\", \"cve\", \"cpe\"]\n",
    "# Summarize data sources in BRON\n",
    "main_data_summary(graph=graph,\n",
    "                  save_folder=save_folder,\n",
    "                  data_types=datatypes)"
   ]
  },
  {
   "cell_type": "code",
   "execution_count": 14,
   "metadata": {},
   "outputs": [
    {
     "data": {
      "image/png": "[encoded data removed]",
      "text/plain": [
       "<Figure size 432x288 with 2 Axes>"
      ]
     },
     "metadata": {
      "needs_background": "light"
     },
     "output_type": "display_data"
    }
   ],
   "source": [
    "tactics = 'persistence,discovery,defense-evasion,impact'\n",
    "vendors = 'ibm,mozilla,google'\n",
    "tactic_search_result_file = os.path.join(save_path, 'search_result_tactic.csv')\n",
    "plot_type = 'heatmap'\n",
    "cve_summary_path = os.path.join(save_folder, 'cve_summary.csv')\n",
    "_save_path = os.path.join(save_path, 'figures')\n",
    "_figure_path = os.path.join(save_path, 'vendor_tactics.png')\n",
    "tactics_split = tactics.split(',')\n",
    "vendors_split = vendors.split(',')\n",
    "bron_id_to_cpe_id_dict = bron_id_to_cpe_id(save_path)\n",
    "cve_to_risk_dict = cve_to_risk(cve_summary_path)\n",
    "with open(os.path.join(BRON_original_id_to_bron_id_path, 'tactic_name_to_bron_id.json'), 'r') as fd:\n",
    "    all_tactics_name_to_id = json.load(fd)\n",
    "tactic_ids = [f\"tactic_{all_tactics_name_to_id[_]}\" for _ in tactics_split]\n",
    "\n",
    "make_heat_map(tactics_split,\n",
    "              vendors_split,\n",
    "              tactic_ids,\n",
    "              tactic_search_result_file,\n",
    "              bron_id_to_cpe_id_dict,\n",
    "              save_path=_figure_path)"
   ]
  }
 ],
 "metadata": {
  "@webio": {
   "lastCommId": null,
   "lastKernelId": null
  },
  "kernelspec": {
   "display_name": "Python 3",
   "language": "python",
   "name": "python3"
  },
  "language_info": {
   "codemirror_mode": {
    "name": "ipython",
    "version": 3
   },
   "file_extension": ".py",
   "mimetype": "text/x-python",
   "name": "python",
   "nbconvert_exporter": "python",
   "pygments_lexer": "ipython3",
   "version": "3.8.2"
  }
 },
 "nbformat": 4,
 "nbformat_minor": 2
}
