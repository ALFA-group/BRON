{
 "cells": [
  {
   "cell_type": "markdown",
   "metadata": {},
   "source": [
    "**Note**; This notebook might take some time to run since it uses the entire data downloaded for BRON. (There is a tutorial that deals with only a subset of the data in `bron_tutorial`)"
   ]
  },
  {
   "cell_type": "markdown",
   "metadata": {},
   "source": [
    "# Set working directory"
   ]
  },
  {
   "cell_type": "code",
   "execution_count": 1,
   "metadata": {},
   "outputs": [
    {
     "name": "stdout",
     "output_type": "stream",
     "text": [
      "Python 3.8.2\r\n"
     ]
    }
   ],
   "source": [
    "import os\n",
    "cwd = os.path.split(os.getcwd())\n",
    "if cwd[-1] == 'tutorials':\n",
    "    os.chdir('..')\n",
    "!python --version"
   ]
  },
  {
   "cell_type": "markdown",
   "metadata": {},
   "source": [
    "# Import modules"
   ]
  },
  {
   "cell_type": "code",
   "execution_count": 2,
   "metadata": {},
   "outputs": [],
   "source": [
    "import json\n",
    "\n",
    "from BRON.build_BRON import build_graph, BRON_PATH\n",
    "from path_search.path_search_BRON import main_attack\n",
    "from meta_analysis.make_data_summary import load_graph_network, main_data_summary\n",
    "from utils.bron_network_utils import load_graph_nodes\n",
    "from meta_analysis.meta_analysis_scripts.vendor_tactic_and_cvss import bron_id_to_cpe_id, cve_to_risk, make_heat_map\n",
    "from utils.tutorial_util import print_files_in_folder"
   ]
  },
  {
   "cell_type": "markdown",
   "metadata": {},
   "source": [
    "# Build BRON"
   ]
  },
  {
   "cell_type": "code",
   "execution_count": 3,
   "metadata": {},
   "outputs": [],
   "source": [
    "# Path to save BRON output\n",
    "save_path = 'full_data/full_output_data'\n",
    "os.makedirs(save_path, exist_ok=True)\n",
    "# Path to the downloaded threat information\n",
    "input_data_folder = 'download_threat_information'\n",
    "BRON_original_id_to_bron_id_path = os.path.join(save_path, BRON_PATH)\n",
    "os.makedirs(BRON_original_id_to_bron_id_path, exist_ok=True)"
   ]
  },
  {
   "cell_type": "code",
   "execution_count": 4,
   "metadata": {},
   "outputs": [],
   "source": [
    "build_graph(save_path, input_data_folder)"
   ]
  },
  {
   "cell_type": "code",
   "execution_count": 5,
   "metadata": {},
   "outputs": [
    {
     "name": "stdout",
     "output_type": "stream",
     "text": [
      "('full_data/full_output_data/BRON/original_id_to_bron_id/tactic_name_to_bron_id.json '\n",
      " '1601407537.7683444')\n",
      "('full_data/full_output_data/BRON/original_id_to_bron_id/technique_id_to_bron_id.json '\n",
      " '1601407537.7735841')\n",
      "('full_data/full_output_data/BRON/original_id_to_bron_id/capec_id_to_bron_id.json '\n",
      " '1601407537.7890787')\n",
      "('full_data/full_output_data/BRON/original_id_to_bron_id/cwe_id_to_bron_id.json '\n",
      " '1601407573.9949815')\n",
      "('full_data/full_output_data/BRON/original_id_to_bron_id/cve_id_bron_id.json '\n",
      " '1601407574.4136708')\n",
      "('full_data/full_output_data/BRON/original_id_to_bron_id/cpe_id_bron_id.json '\n",
      " '1601407575.0895107')\n"
     ]
    }
   ],
   "source": [
    "print_files_in_folder(BRON_original_id_to_bron_id_path)"
   ]
  },
  {
   "cell_type": "markdown",
   "metadata": {},
   "source": [
    "# Structure of BRON"
   ]
  },
  {
   "cell_type": "markdown",
   "metadata": {},
   "source": [
    "Each entry of threat data is a node in BRON that has 4 attributes. The node has a unique name in BRON of the form (threat data type)\\_(unique 5 digit id) where the threat data type is either Tactic, Technique, CAPEC, CWE, CVE, or CPE.\n",
    "\n",
    "There are 4 attributes for each node:\n",
    "- Original_id: ID of threat data in MITRE/NIST if it exists\n",
    "- Datatype: One of Tactic, Technique, CAPEC, CWE, CVE, or CPE\n",
    "- Name: Name of threat data in MITRE/NIST if it exists\n",
    "- Metadata: Any additional information that is contained in MITRE/NIST "
   ]
  },
  {
   "cell_type": "markdown",
   "metadata": {},
   "source": [
    "# Find paths in BRON"
   ]
  },
  {
   "cell_type": "code",
   "execution_count": 6,
   "metadata": {},
   "outputs": [
    {
     "data": {
      "text/html": [
       "<div>\n",
       "<style scoped>\n",
       "    .dataframe tbody tr th:only-of-type {\n",
       "        vertical-align: middle;\n",
       "    }\n",
       "\n",
       "    .dataframe tbody tr th {\n",
       "        vertical-align: top;\n",
       "    }\n",
       "\n",
       "    .dataframe thead th {\n",
       "        text-align: right;\n",
       "    }\n",
       "</style>\n",
       "<table border=\"1\" class=\"dataframe\">\n",
       "  <thead>\n",
       "    <tr style=\"text-align: right;\">\n",
       "      <th></th>\n",
       "      <th>tactic</th>\n",
       "      <th>technique</th>\n",
       "      <th>capec</th>\n",
       "      <th>cwe</th>\n",
       "      <th>cve</th>\n",
       "      <th>risk_score</th>\n",
       "      <th>cpe</th>\n",
       "      <th>attack</th>\n",
       "      <th>Node Type</th>\n",
       "    </tr>\n",
       "  </thead>\n",
       "  <tbody>\n",
       "    <tr>\n",
       "      <th>0</th>\n",
       "      <td>{tactic_00066}</td>\n",
       "      <td>96</td>\n",
       "      <td>15</td>\n",
       "      <td>15</td>\n",
       "      <td>2069</td>\n",
       "      <td>12457.65</td>\n",
       "      <td>10296</td>\n",
       "      <td>NaN</td>\n",
       "      <td>connected</td>\n",
       "    </tr>\n",
       "    <tr>\n",
       "      <th>1</th>\n",
       "      <td>{tactic_00023}</td>\n",
       "      <td>35</td>\n",
       "      <td>14</td>\n",
       "      <td>4</td>\n",
       "      <td>6500</td>\n",
       "      <td>31453.15</td>\n",
       "      <td>29398</td>\n",
       "      <td>NaN</td>\n",
       "      <td>connected</td>\n",
       "    </tr>\n",
       "    <tr>\n",
       "      <th>2</th>\n",
       "      <td>{tactic_00021}</td>\n",
       "      <td>137</td>\n",
       "      <td>21</td>\n",
       "      <td>35</td>\n",
       "      <td>17125</td>\n",
       "      <td>100254.60</td>\n",
       "      <td>70854</td>\n",
       "      <td>NaN</td>\n",
       "      <td>connected</td>\n",
       "    </tr>\n",
       "    <tr>\n",
       "      <th>3</th>\n",
       "      <td>12</td>\n",
       "      <td>568</td>\n",
       "      <td>581</td>\n",
       "      <td>370</td>\n",
       "      <td>150545</td>\n",
       "      <td>904138.95</td>\n",
       "      <td>219054</td>\n",
       "      <td>0.0</td>\n",
       "      <td>Total Number</td>\n",
       "    </tr>\n",
       "  </tbody>\n",
       "</table>\n",
       "</div>"
      ],
      "text/plain": [
       "           tactic  technique  capec  cwe     cve  risk_score     cpe  attack  \\\n",
       "0  {tactic_00066}         96     15   15    2069    12457.65   10296     NaN   \n",
       "1  {tactic_00023}         35     14    4    6500    31453.15   29398     NaN   \n",
       "2  {tactic_00021}        137     21   35   17125   100254.60   70854     NaN   \n",
       "3              12        568    581  370  150545   904138.95  219054     0.0   \n",
       "\n",
       "      Node Type  \n",
       "0     connected  \n",
       "1     connected  \n",
       "2     connected  \n",
       "3  Total Number  "
      ]
     },
     "execution_count": 6,
     "metadata": {},
     "output_type": "execute_result"
    }
   ],
   "source": [
    "starting_point_type = 'tactic'\n",
    "starting_point = f'example_data/example_input_data/starting_point_{starting_point_type}.csv'\n",
    "results_file = os.path.join(save_path, f'search_result_{starting_point_type}.csv')\n",
    "length = True\n",
    "main_attack(BRON_folder_path=save_path,\n",
    "            args_file=starting_point,\n",
    "            results_name=results_file,\n",
    "            arg_type=starting_point_type,\n",
    "            length=length)"
   ]
  },
  {
   "cell_type": "code",
   "execution_count": 7,
   "metadata": {},
   "outputs": [
    {
     "data": {
      "text/html": [
       "<div>\n",
       "<style scoped>\n",
       "    .dataframe tbody tr th:only-of-type {\n",
       "        vertical-align: middle;\n",
       "    }\n",
       "\n",
       "    .dataframe tbody tr th {\n",
       "        vertical-align: top;\n",
       "    }\n",
       "\n",
       "    .dataframe thead th {\n",
       "        text-align: right;\n",
       "    }\n",
       "</style>\n",
       "<table border=\"1\" class=\"dataframe\">\n",
       "  <thead>\n",
       "    <tr style=\"text-align: right;\">\n",
       "      <th></th>\n",
       "      <th>tactic</th>\n",
       "      <th>technique</th>\n",
       "      <th>capec</th>\n",
       "      <th>cwe</th>\n",
       "      <th>cve</th>\n",
       "      <th>risk_score</th>\n",
       "      <th>cpe</th>\n",
       "      <th>attack</th>\n",
       "      <th>Node Type</th>\n",
       "    </tr>\n",
       "  </thead>\n",
       "  <tbody>\n",
       "    <tr>\n",
       "      <th>0</th>\n",
       "      <td>{tactic_00066}</td>\n",
       "      <td>{technique_00564, technique_00079, technique_0...</td>\n",
       "      <td>{capec_00615, capec_00651, capec_00611, capec_...</td>\n",
       "      <td>{cwe_00828, cwe_01100, cwe_00770, cwe_00832, c...</td>\n",
       "      <td>{cve_353689, cve_259276, cve_339585, cve_23999...</td>\n",
       "      <td>12457.65</td>\n",
       "      <td>{cpe_293494, cpe_212068, cpe_262325, cpe_16695...</td>\n",
       "      <td>NaN</td>\n",
       "      <td>connected</td>\n",
       "    </tr>\n",
       "    <tr>\n",
       "      <th>1</th>\n",
       "      <td>{tactic_00023}</td>\n",
       "      <td>{technique_00030, technique_00034, technique_0...</td>\n",
       "      <td>{capec_00642, capec_00600, capec_00597, capec_...</td>\n",
       "      <td>{cwe_00654, cwe_00730, cwe_01311, cwe_00825}</td>\n",
       "      <td>{cve_237549, cve_232736, cve_346362, cve_18680...</td>\n",
       "      <td>31453.15</td>\n",
       "      <td>{cpe_354907, cpe_212068, cpe_160522, cpe_88567...</td>\n",
       "      <td>NaN</td>\n",
       "      <td>connected</td>\n",
       "    </tr>\n",
       "    <tr>\n",
       "      <th>2</th>\n",
       "      <td>{tactic_00021}</td>\n",
       "      <td>{technique_00053, technique_00256, technique_0...</td>\n",
       "      <td>{capec_00594, capec_00651, capec_00648, capec_...</td>\n",
       "      <td>{cwe_00654, cwe_00826, cwe_01424, cwe_00828, c...</td>\n",
       "      <td>{cve_114434, cve_79188, cve_237549, cve_189374...</td>\n",
       "      <td>100254.60</td>\n",
       "      <td>{cpe_354907, cpe_212068, cpe_160522, cpe_14678...</td>\n",
       "      <td>NaN</td>\n",
       "      <td>connected</td>\n",
       "    </tr>\n",
       "    <tr>\n",
       "      <th>3</th>\n",
       "      <td>12</td>\n",
       "      <td>568</td>\n",
       "      <td>581</td>\n",
       "      <td>370</td>\n",
       "      <td>150545</td>\n",
       "      <td>904138.95</td>\n",
       "      <td>219054</td>\n",
       "      <td>0.0</td>\n",
       "      <td>Total Number</td>\n",
       "    </tr>\n",
       "  </tbody>\n",
       "</table>\n",
       "</div>"
      ],
      "text/plain": [
       "           tactic                                          technique  \\\n",
       "0  {tactic_00066}  {technique_00564, technique_00079, technique_0...   \n",
       "1  {tactic_00023}  {technique_00030, technique_00034, technique_0...   \n",
       "2  {tactic_00021}  {technique_00053, technique_00256, technique_0...   \n",
       "3              12                                                568   \n",
       "\n",
       "                                               capec  \\\n",
       "0  {capec_00615, capec_00651, capec_00611, capec_...   \n",
       "1  {capec_00642, capec_00600, capec_00597, capec_...   \n",
       "2  {capec_00594, capec_00651, capec_00648, capec_...   \n",
       "3                                                581   \n",
       "\n",
       "                                                 cwe  \\\n",
       "0  {cwe_00828, cwe_01100, cwe_00770, cwe_00832, c...   \n",
       "1       {cwe_00654, cwe_00730, cwe_01311, cwe_00825}   \n",
       "2  {cwe_00654, cwe_00826, cwe_01424, cwe_00828, c...   \n",
       "3                                                370   \n",
       "\n",
       "                                                 cve  risk_score  \\\n",
       "0  {cve_353689, cve_259276, cve_339585, cve_23999...    12457.65   \n",
       "1  {cve_237549, cve_232736, cve_346362, cve_18680...    31453.15   \n",
       "2  {cve_114434, cve_79188, cve_237549, cve_189374...   100254.60   \n",
       "3                                             150545   904138.95   \n",
       "\n",
       "                                                 cpe  attack     Node Type  \n",
       "0  {cpe_293494, cpe_212068, cpe_262325, cpe_16695...     NaN     connected  \n",
       "1  {cpe_354907, cpe_212068, cpe_160522, cpe_88567...     NaN     connected  \n",
       "2  {cpe_354907, cpe_212068, cpe_160522, cpe_14678...     NaN     connected  \n",
       "3                                             219054     0.0  Total Number  "
      ]
     },
     "execution_count": 7,
     "metadata": {},
     "output_type": "execute_result"
    }
   ],
   "source": [
    "length = False\n",
    "main_attack(BRON_folder_path=save_path,\n",
    "            args_file=starting_point,\n",
    "            results_name=results_file,\n",
    "            arg_type=starting_point_type,\n",
    "            length=length)"
   ]
  },
  {
   "cell_type": "code",
   "execution_count": 8,
   "metadata": {},
   "outputs": [
    {
     "data": {
      "text/html": [
       "<div>\n",
       "<style scoped>\n",
       "    .dataframe tbody tr th:only-of-type {\n",
       "        vertical-align: middle;\n",
       "    }\n",
       "\n",
       "    .dataframe tbody tr th {\n",
       "        vertical-align: top;\n",
       "    }\n",
       "\n",
       "    .dataframe thead th {\n",
       "        text-align: right;\n",
       "    }\n",
       "</style>\n",
       "<table border=\"1\" class=\"dataframe\">\n",
       "  <thead>\n",
       "    <tr style=\"text-align: right;\">\n",
       "      <th></th>\n",
       "      <th>tactic</th>\n",
       "      <th>technique</th>\n",
       "      <th>capec</th>\n",
       "      <th>cwe</th>\n",
       "      <th>cve</th>\n",
       "      <th>risk_score</th>\n",
       "      <th>cpe</th>\n",
       "      <th>attack</th>\n",
       "      <th>Node Type</th>\n",
       "    </tr>\n",
       "  </thead>\n",
       "  <tbody>\n",
       "    <tr>\n",
       "      <th>0</th>\n",
       "      <td>{}</td>\n",
       "      <td>{technique_00006}</td>\n",
       "      <td>{}</td>\n",
       "      <td>{}</td>\n",
       "      <td>{}</td>\n",
       "      <td>0.00</td>\n",
       "      <td>{}</td>\n",
       "      <td>NaN</td>\n",
       "      <td>connected</td>\n",
       "    </tr>\n",
       "    <tr>\n",
       "      <th>1</th>\n",
       "      <td>12</td>\n",
       "      <td>568</td>\n",
       "      <td>581</td>\n",
       "      <td>370</td>\n",
       "      <td>150545</td>\n",
       "      <td>904138.95</td>\n",
       "      <td>219054</td>\n",
       "      <td>0.0</td>\n",
       "      <td>Total Number</td>\n",
       "    </tr>\n",
       "  </tbody>\n",
       "</table>\n",
       "</div>"
      ],
      "text/plain": [
       "  tactic          technique capec  cwe     cve  risk_score     cpe  attack  \\\n",
       "0     {}  {technique_00006}    {}   {}      {}        0.00      {}     NaN   \n",
       "1     12                568   581  370  150545   904138.95  219054     0.0   \n",
       "\n",
       "      Node Type  \n",
       "0     connected  \n",
       "1  Total Number  "
      ]
     },
     "execution_count": 8,
     "metadata": {},
     "output_type": "execute_result"
    }
   ],
   "source": [
    "starting_point_type = 'technique'\n",
    "starting_point = f'example_data/example_input_data/starting_point_{starting_point_type}.csv'\n",
    "results_file = os.path.join(save_path, f'search_result_{starting_point_type}.csv')\n",
    "length = False\n",
    "main_attack(BRON_folder_path=save_path,\n",
    "            args_file=starting_point,\n",
    "            results_name=results_file,\n",
    "            arg_type=starting_point_type,\n",
    "            length=length)"
   ]
  },
  {
   "cell_type": "code",
   "execution_count": 9,
   "metadata": {},
   "outputs": [
    {
     "name": "stdout",
     "output_type": "stream",
     "text": [
      "tactic\n",
      "technique\n",
      "capec\n",
      "cwe\n",
      "cve\n",
      "cpe\n"
     ]
    }
   ],
   "source": [
    "# Path to BRON data\n",
    "BRON_path = os.path.join(save_path, 'BRON.json')\n",
    "save_folder = os.path.join(save_path, 'all_cves_all_versions')\n",
    "os.makedirs(save_folder, exist_ok=True)\n",
    "not_all_cpe_versions = False\n",
    "# Load the BRON graph\n",
    "graph = load_graph_network(BRON_path, not_all_cpe_versions)\n",
    "\n",
    "datatypes = [\"tactic\", \"technique\", \"capec\", \"cwe\", \"cve\", \"cpe\"]\n",
    "# Summarize data sources in BRON\n",
    "main_data_summary(graph=graph,\n",
    "                  save_folder=save_folder,\n",
    "                  data_types=datatypes)"
   ]
  },
  {
   "cell_type": "code",
   "execution_count": 10,
   "metadata": {},
   "outputs": [
    {
     "data": {
      "image/png": "[encoded data removed]",
      "text/plain": [
       "<Figure size 432x288 with 2 Axes>"
      ]
     },
     "metadata": {
      "needs_background": "light"
     },
     "output_type": "display_data"
    }
   ],
   "source": [
    "tactics = 'persistence,discovery,defense-evasion,impact'\n",
    "vendors = 'ibm,mozilla,google'\n",
    "tactic_search_result_file = os.path.join(save_path, 'search_result_tactic.csv')\n",
    "plot_type = 'heatmap'\n",
    "cve_summary_path = os.path.join(save_folder, 'cve_summary.csv')\n",
    "_save_path = os.path.join(save_path, 'figures')\n",
    "_figure_path = os.path.join(save_path, 'vendor_tactics.png')\n",
    "tactics_split = tactics.split(',')\n",
    "vendors_split = vendors.split(',')\n",
    "bron_id_to_cpe_id_dict = bron_id_to_cpe_id(save_path)\n",
    "cve_to_risk_dict = cve_to_risk(cve_summary_path)\n",
    "with open(os.path.join(BRON_original_id_to_bron_id_path, 'tactic_name_to_bron_id.json'), 'r') as fd:\n",
    "    all_tactics_name_to_id = json.load(fd)\n",
    "tactic_ids = [f\"tactic_{all_tactics_name_to_id[_]}\" for _ in tactics_split]\n",
    "\n",
    "make_heat_map(tactics_split,\n",
    "              vendors_split,\n",
    "              tactic_ids,\n",
    "              tactic_search_result_file,\n",
    "              bron_id_to_cpe_id_dict,\n",
    "              save_path=_figure_path)"
   ]
  }
 ],
 "metadata": {
  "@webio": {
   "lastCommId": null,
   "lastKernelId": null
  },
  "kernelspec": {
   "display_name": "venv_BRON",
   "language": "python",
   "name": "venv_bron"
  },
  "language_info": {
   "codemirror_mode": {
    "name": "ipython",
    "version": 3
   },
   "file_extension": ".py",
   "mimetype": "text/x-python",
   "name": "python",
   "nbconvert_exporter": "python",
   "pygments_lexer": "ipython3",
   "version": "3.8.2"
  }
 },
 "nbformat": 4,
 "nbformat_minor": 2
}