{
 "cells": [
  {
   "cell_type": "markdown",
   "metadata": {
    "collapsed": true,
    "pycharm": {
     "name": "#%% md\n"
    }
   },
   "source": [
    " # How to use the BRON arangodb\n",
    " \n",
    " You can view the public version of BRON with the arangodb web interface at [http:bron.alfa.csail.mit.edu:8529] with `username` `guest` and `password` `guest`."
   ]
  },
  {
   "cell_type": "code",
   "execution_count": 11,
   "metadata": {
    "pycharm": {
     "name": "#%%\n"
    }
   },
   "outputs": [],
   "source": [
    "# Change working directory\n",
    "import os\n",
    "cwd = os.path.split(os.getcwd())\n",
    "if cwd[-1] == 'tutorials':\n",
    "    os.chdir('..')\n"
   ]
  },
  {
   "cell_type": "code",
   "execution_count": 12,
   "metadata": {
    "pycharm": {
     "name": "#%%\n"
    }
   },
   "outputs": [],
   "source": [
    "import arango\n",
    "\n",
    "BRON_SERVER_IP = 'bron.alfa.csail.mit.edu'\n",
    "BRON_USERNAME = 'guest'\n",
    "BRON_PASSWORD = 'guest'\n",
    "DB = 'BRON'"
   ]
  },
  {
   "cell_type": "markdown",
   "metadata": {
    "pycharm": {
     "name": "#%% md\n"
    }
   },
   "source": [
    "## Example connect to BRON arangodb and perform AQL query"
   ]
  },
  {
   "cell_type": "code",
   "execution_count": 13,
   "metadata": {
    "pycharm": {
     "name": "#%%\n"
    }
   },
   "outputs": [
    {
     "name": "stdout",
     "output_type": "stream",
     "text": [
      "{'_key': 'tactic_00003', '_id': 'tactic/tactic_00003', '_rev': '_dzuWJ3---A', 'original_id': 'TA0006', 'datatype': 'tactic', 'name': 'credential-access', 'metadata': {'description': 'The adversary is trying to steal account names and passwords.\\n\\nCredential Access consists of techniques for stealing credentials like account names and passwords. Techniques used to get credentials include keylogging or credential dumping. Using legitimate credentials can give adversaries access to systems, make them harder to detect, and provide the opportunity to create more accounts to help achieve their goals.', 'short_description': 'The adversary is trying to steal account names and passwords.'}}\n",
      "CPU times: user 8.98 ms, sys: 536 µs, total: 9.52 ms\n",
      "Wall time: 14.5 ms\n"
     ]
    }
   ],
   "source": [
    "%%time\n",
    "query = \"\"\"\n",
    "FOR c IN tactic\n",
    "    FILTER c.original_id == \"TA0006\"\n",
    "    RETURN c\n",
    "\"\"\"\n",
    "client = arango.ArangoClient(hosts=f\"http://{BRON_SERVER_IP}:8529\")\n",
    "db = client.db(DB, username=BRON_USERNAME, password=BRON_PASSWORD, auth_method=\"basic\")\n",
    "assert db.aql.validate(query)\n",
    "cursor = db.aql.execute(query)\n",
    "for c in cursor:\n",
    "    print(c)\n"
   ]
  },
  {
   "cell_type": "code",
   "execution_count": 14,
   "metadata": {
    "pycharm": {
     "name": "#%%\n"
    }
   },
   "outputs": [
    {
     "name": "stdout",
     "output_type": "stream",
     "text": [
      "\n",
      "FOR c IN capec\n",
      "    FILTER c.original_id == \"117\"\n",
      "    FOR v IN 1..1 ANY c TechniqueCapec\n",
      "        RETURN v\n",
      "\n",
      "1 result for CAPEC 117 in TechniqueCapec: {'T1020.001'}\n",
      "\n",
      "FOR c IN capec\n",
      "    FILTER c.original_id == \"117\"\n",
      "    FOR v IN 1..1 ANY c CapecCwe\n",
      "        RETURN v\n",
      "\n",
      "1 result for CAPEC 117 in CapecCwe: {'319'}\n",
      "CPU times: user 12.5 ms, sys: 3.63 ms, total: 16.1 ms\n",
      "Wall time: 22.1 ms\n"
     ]
    }
   ],
   "source": [
    "%%time\n",
    "query_template = \"\"\"\n",
    "FOR c IN capec\n",
    "    FILTER c.original_id == \"{}\"\n",
    "    FOR v IN 1..1 ANY c {}\n",
    "        RETURN v\n",
    "\"\"\"\n",
    "capec = \"117\"\n",
    "edge_collections = (\"TechniqueCapec\", \"CapecCwe\")\n",
    "for edge_collection in edge_collections:\n",
    "    query = query_template.format(capec, edge_collection)\n",
    "    assert db.aql.validate(query)\n",
    "    print(query)\n",
    "    cursor = db.aql.execute(query)\n",
    "    results = {_['original_id'] for _ in cursor}\n",
    "    print(f'{len(results)} result for CAPEC {capec} in {edge_collection}: {results}')\n"
   ]
  }
 ],
 "metadata": {
  "kernelspec": {
   "display_name": "Python 3",
   "language": "python",
   "name": "python3"
  },
  "language_info": {
   "codemirror_mode": {
    "name": "ipython",
    "version": 3
   },
   "file_extension": ".py",
   "mimetype": "text/x-python",
   "name": "python",
   "nbconvert_exporter": "python",
   "pygments_lexer": "ipython3",
   "version": "3.8.10"
  }
 },
 "nbformat": 4,
 "nbformat_minor": 1
}
