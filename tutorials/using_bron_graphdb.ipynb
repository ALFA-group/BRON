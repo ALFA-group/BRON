{
 "cells": [
  {
   "cell_type": "markdown",
   "metadata": {
    "collapsed": true,
    "pycharm": {
     "name": "#%% md\n"
    }
   },
   "source": [
    " # How to use the BRON arangodb\n",
    " \n",
    " You can view the public version of BRON with the arangodb web interface at [http:bron.alfa.csail.mit.edu:8529] with `username` `guest` and `password` `guest`."
   ]
  },
  {
   "cell_type": "code",
   "execution_count": 1,
   "metadata": {
    "pycharm": {
     "name": "#%%\n"
    }
   },
   "outputs": [],
   "source": [
    "# Change working directory\n",
    "import os\n",
    "\n",
    "cwd = os.path.split(os.getcwd())\n",
    "if cwd[-1] == \"tutorials\":\n",
    "    os.chdir(\"..\")\n",
    "\n",
    "assert os.path.split(os.getcwd())[-1] == \"bron_framework\""
   ]
  },
  {
   "cell_type": "code",
   "execution_count": 2,
   "metadata": {
    "pycharm": {
     "name": "#%%\n"
    }
   },
   "outputs": [],
   "source": [
    "from offense.build_software_and_groups import build_software, OUT_DATA_DIR\n",
    "from utils.mitigation_utils import query_bron_aql\n",
    "\n",
    "save_path = os.path.join(\"tests\", OUT_DATA_DIR)\n",
    "\n",
    "import arango\n",
    "\n",
    "BRON_SERVER_IP = \"localhost\"\n",
    "BRON_USERNAME = \"guest\"\n",
    "BRON_PASSWORD = \"guest\"\n",
    "DB = \"BRON\""
   ]
  },
  {
   "cell_type": "code",
   "execution_count": 5,
   "metadata": {},
   "outputs": [
    {
     "ename": "TypeError",
     "evalue": "query_bron_aql() missing 1 required positional argument: 'db'",
     "output_type": "error",
     "traceback": [
      "\u001b[0;31m---------------------------------------------------------------------------\u001b[0m",
      "\u001b[0;31mTypeError\u001b[0m                                 Traceback (most recent call last)",
      "\u001b[1;32m/home/pacifica/bron_framework/tutorials/using_bron_graphdb.ipynb Cell 6\u001b[0m in \u001b[0;36m<cell line: 1>\u001b[0;34m()\u001b[0m\n\u001b[0;32m----> <a href='vscode-notebook-cell:/home/pacifica/bron_framework/tutorials/using_bron_graphdb.ipynb#X15sZmlsZQ%3D%3D?line=0'>1</a>\u001b[0m build_software(save_path, BRON_USERNAME, BRON_PASSWORD, BRON_SERVER_IP)\n",
      "File \u001b[0;32m~/bron_framework/offense/build_software_and_groups.py:23\u001b[0m, in \u001b[0;36mbuild_software\u001b[0;34m(save_path, username, password, ip, validation, update_bron_graphdb)\u001b[0m\n\u001b[1;32m     20\u001b[0m \u001b[39mdef\u001b[39;00m \u001b[39mbuild_software\u001b[39m(\n\u001b[1;32m     21\u001b[0m         save_path: \u001b[39mstr\u001b[39m, username: \u001b[39mstr\u001b[39m, password: \u001b[39mstr\u001b[39m, ip: \u001b[39mstr\u001b[39m, validation: \u001b[39mbool\u001b[39m \u001b[39m=\u001b[39m \u001b[39mTrue\u001b[39;00m, update_bron_graphdb:\u001b[39mbool\u001b[39m \u001b[39m=\u001b[39m \u001b[39mTrue\u001b[39;00m\n\u001b[1;32m     22\u001b[0m ):\n\u001b[0;32m---> 23\u001b[0m     _build_software(save_path, username, password, validation)\n",
      "File \u001b[0;32m~/bron_framework/offense/build_software_and_groups.py:73\u001b[0m, in \u001b[0;36m_build_software\u001b[0;34m(save_path, username, password, ip, validation)\u001b[0m\n\u001b[1;32m     71\u001b[0m \u001b[39mfor\u001b[39;00m row \u001b[39min\u001b[39;00m df\u001b[39m.\u001b[39miterrows():\n\u001b[1;32m     72\u001b[0m     value \u001b[39m=\u001b[39m row[\u001b[39m1\u001b[39m]\n\u001b[0;32m---> 73\u001b[0m     result \u001b[39m=\u001b[39m query_bron_aql(collection_name, {\u001b[39m\"\u001b[39;49m\u001b[39moriginal_id\u001b[39;49m\u001b[39m\"\u001b[39;49m: \u001b[39mstr\u001b[39;49m(value[\u001b[39m\"\u001b[39;49m\u001b[39mtechnique_id\u001b[39;49m\u001b[39m\"\u001b[39;49m])})\n\u001b[1;32m     74\u001b[0m     \u001b[39mif\u001b[39;00m result \u001b[39mis\u001b[39;00m \u001b[39mNone\u001b[39;00m:\n\u001b[1;32m     75\u001b[0m         \u001b[39mcontinue\u001b[39;00m\n",
      "\u001b[0;31mTypeError\u001b[0m: query_bron_aql() missing 1 required positional argument: 'db'"
     ]
    }
   ],
   "source": [
    "build_software(save_path, BRON_USERNAME, BRON_PASSWORD, BRON_SERVER_IP)"
   ]
  },
  {
   "cell_type": "code",
   "execution_count": 3,
   "metadata": {},
   "outputs": [
    {
     "name": "stdout",
     "output_type": "stream",
     "text": [
      "<StandardCollection technique> technique\n"
     ]
    }
   ],
   "source": [
    "client = arango.ArangoClient(hosts=f\"http://{BRON_SERVER_IP}:8529\")\n",
    "db = client.db(\n",
    "    \"BRON\", username=BRON_USERNAME, password=BRON_PASSWORD, auth_method=\"basic\"\n",
    ")\n",
    "technique_bron = db.collection(\"technique\")\n",
    "print(technique_bron, technique_bron.name)"
   ]
  },
  {
   "cell_type": "code",
   "execution_count": 4,
   "metadata": {},
   "outputs": [
    {
     "name": "stdout",
     "output_type": "stream",
     "text": [
      "tests/data/attacks\n"
     ]
    },
    {
     "data": {
      "text/plain": [
       "{'_key': 'technique_00015',\n",
       " '_id': 'technique/technique_00015',\n",
       " '_rev': '_emJuify---',\n",
       " 'original_id': 'T1001',\n",
       " 'datatype': 'technique',\n",
       " 'name': 'Data Obfuscation',\n",
       " 'metadata': {'description': 'Adversaries may obfuscate command and control traffic to make it more difficult to detect. Command and control (C2) communications are hidden (but not necessarily encrypted) in an attempt to make the content more difficult to discover or decipher and to make the communication less conspicuous and hide commands from being seen. This encompasses many methods, such as adding junk data to protocol traffic, using steganography, or impersonating legitimate protocols. ',\n",
       "  'short_description': 'Adversaries may obfuscate command and control traffic to make it more difficult to detect. Command and control (C2) communications are hidden (but not necessarily encrypted) in an attempt to make the content more difficult to discover or decipher and to make the communication less conspicuous and hide commands from being seen. This encompasses many methods, such as adding junk data to protocol traffic, using steganography, or impersonating legitimate protocols. '}}"
      ]
     },
     "execution_count": 4,
     "metadata": {},
     "output_type": "execute_result"
    }
   ],
   "source": [
    "print(save_path)\n",
    "original_id = \"T1001\"\n",
    "query_bron_aql(technique_bron.name, original_id, db)"
   ]
  },
  {
   "cell_type": "markdown",
   "metadata": {
    "pycharm": {
     "name": "#%% md\n"
    }
   },
   "source": [
    "## Example connect to BRON arangodb and perform AQL query"
   ]
  },
  {
   "cell_type": "code",
   "execution_count": 5,
   "metadata": {
    "pycharm": {
     "name": "#%%\n"
    }
   },
   "outputs": [
    {
     "name": "stdout",
     "output_type": "stream",
     "text": [
      "{'_key': 'tactic_00003', '_id': 'tactic/tactic_00003', '_rev': '_emJukVy--A', 'original_id': 'TA0006', 'datatype': 'tactic', 'name': 'credential-access', 'metadata': {'description': 'The adversary is trying to steal account names and passwords.\\n\\nCredential Access consists of techniques for stealing credentials like account names and passwords. Techniques used to get credentials include keylogging or credential dumping. Using legitimate credentials can give adversaries access to systems, make them harder to detect, and provide the opportunity to create more accounts to help achieve their goals.', 'short_description': 'The adversary is trying to steal account names and passwords.'}}\n",
      "CPU times: user 4.65 ms, sys: 658 µs, total: 5.31 ms\n",
      "Wall time: 5.3 ms\n"
     ]
    }
   ],
   "source": [
    "%%time\n",
    "query = \"\"\"\n",
    "FOR c IN tactic\n",
    "    FILTER c.original_id == \"TA0006\"\n",
    "    RETURN c\n",
    "\"\"\"\n",
    "client = arango.ArangoClient(hosts=f\"http://{BRON_SERVER_IP}:8529\")\n",
    "db = client.db(DB, username=BRON_USERNAME, password=BRON_PASSWORD, auth_method=\"basic\")\n",
    "assert db.aql.validate(query)\n",
    "cursor = db.aql.execute(query)\n",
    "for c in cursor:\n",
    "    print(c)"
   ]
  },
  {
   "cell_type": "code",
   "execution_count": 4,
   "metadata": {
    "pycharm": {
     "name": "#%%\n"
    }
   },
   "outputs": [
    {
     "name": "stdout",
     "output_type": "stream",
     "text": [
      "\n",
      "FOR c IN capec\n",
      "    FILTER c.original_id == \"117\"\n",
      "    FOR v IN 1..1 ANY c TechniqueCapec\n",
      "        RETURN v\n",
      "\n",
      "1 result for CAPEC 117 in TechniqueCapec: {'T1020.001'}\n",
      "\n",
      "FOR c IN capec\n",
      "    FILTER c.original_id == \"117\"\n",
      "    FOR v IN 1..1 ANY c CapecCwe\n",
      "        RETURN v\n",
      "\n",
      "1 result for CAPEC 117 in CapecCwe: {'319'}\n",
      "CPU times: user 11.7 ms, sys: 2.93 ms, total: 14.6 ms\n",
      "Wall time: 172 ms\n"
     ]
    }
   ],
   "source": [
    "%%time\n",
    "query_template = \"\"\"\n",
    "FOR c IN capec\n",
    "    FILTER c.original_id == \"{}\"\n",
    "    FOR v IN 1..1 ANY c {}\n",
    "        RETURN v\n",
    "\"\"\"\n",
    "capec = \"117\"\n",
    "edge_collections = (\"TechniqueCapec\", \"CapecCwe\")\n",
    "for edge_collection in edge_collections:\n",
    "    query = query_template.format(capec, edge_collection)\n",
    "    assert db.aql.validate(query)\n",
    "    print(query)\n",
    "    cursor = db.aql.execute(query)\n",
    "    results = {_[\"original_id\"] for _ in cursor}\n",
    "    print(f\"{len(results)} result for CAPEC {capec} in {edge_collection}: {results}\")"
   ]
  },
  {
   "cell_type": "markdown",
   "metadata": {
    "pycharm": {
     "name": "#%% md\n"
    }
   },
   "source": [
    "## Example report download, threat data extraction and BRON query\n",
    "\n",
    "- Given a URL (in this example https://media.defense.gov/2020/Dec/17/2002554125/-1/-1/0/AUTHENTICATION_MECHANISMS_CSA_U_OO_198854_20.PDF )\n",
    "- Parse the document at the URL (HTML or PDF) and use regexp to identify Tactics, Techniques and CVEs\n",
    "- Query the collections in BRON with the extracted information \n",
    "- Prints\n",
    " - the queried records for each collection and the number of edges from each record\n",
    " - the number of edges from traversals of BRON given the records"
   ]
  },
  {
   "cell_type": "code",
   "execution_count": 5,
   "metadata": {
    "pycharm": {
     "name": "#%%\n"
    }
   },
   "outputs": [
    {
     "name": "stdout",
     "output_type": "stream",
     "text": [
      "Query results records: {\n",
      " \"tactic\": {\n",
      "  \"TA0006\": {\n",
      "   \"technique\": 49\n",
      "  }\n",
      " },\n",
      " \"technique\": {\n",
      "  \"T1552.004\": {\n",
      "   \"tactic\": 1\n",
      "  },\n",
      "  \"T1114.002\": {\n",
      "   \"tactic\": 1\n",
      "  },\n",
      "  \"T1552\": {\n",
      "   \"tactic\": 1\n",
      "  },\n",
      "  \"T1114\": {\n",
      "   \"tactic\": 1\n",
      "  },\n",
      "  \"T1199\": {\n",
      "   \"tactic\": 1\n",
      "  }\n",
      " },\n",
      " \"cve\": {}\n",
      "}\n",
      "Query results number of traversals: {\n",
      " \"tactic\": 6,\n",
      " \"technique\": 9,\n",
      " \"cve\": 3\n",
      "}\n",
      "CPU times: user 9.84 s, sys: 1.04 s, total: 10.9 s\n",
      "Wall time: 52.3 s\n"
     ]
    }
   ],
   "source": [
    "%%time\n",
    "_ = download_report_extract_ttps_query_bron(\n",
    "    BRON_SERVER_IP, BRON_PASSWORD, BRON_USERNAME, url=THREAT_REPORT_URL\n",
    ")"
   ]
  },
  {
   "cell_type": "markdown",
   "metadata": {},
   "source": [
    "## Example using file with a network description\n",
    "\n",
    "As above but the results are filtered based on CPE format matches with the affected product configurations listed in a network description file"
   ]
  },
  {
   "cell_type": "code",
   "execution_count": 6,
   "metadata": {},
   "outputs": [
    {
     "name": "stdout",
     "output_type": "stream",
     "text": [
      "Query results records: {\n",
      " \"tactic\": {\n",
      "  \"TA0006\": {\n",
      "   \"technique\": 49\n",
      "  }\n",
      " },\n",
      " \"technique\": {\n",
      "  \"T1552.004\": {\n",
      "   \"tactic\": 1\n",
      "  },\n",
      "  \"T1114.002\": {\n",
      "   \"tactic\": 1\n",
      "  },\n",
      "  \"T1552\": {\n",
      "   \"tactic\": 1\n",
      "  },\n",
      "  \"T1114\": {\n",
      "   \"tactic\": 1\n",
      "  },\n",
      "  \"T1199\": {\n",
      "   \"tactic\": 1\n",
      "  }\n",
      " },\n",
      " \"cve\": {}\n",
      "}\n",
      "Query results number of traversals: {\n",
      " \"tactic\": 6,\n",
      " \"technique\": 9,\n",
      " \"cve\": 3\n",
      "}\n",
      "Number of configurations in CPE format in network 18\n",
      "Network matches: {\n",
      " \"tactic\": [\n",
      "  \"TA0006\"\n",
      " ]\n",
      "}\n",
      "CPU times: user 9.93 s, sys: 1.06 s, total: 11 s\n",
      "Wall time: 51.6 s\n"
     ]
    }
   ],
   "source": [
    "%%time\n",
    "network_description_file = \"graph_db/example_data/network_file_bron.json\"\n",
    "_ = download_report_extract_ttps_query_bron(\n",
    "    BRON_SERVER_IP,\n",
    "    BRON_PASSWORD,\n",
    "    BRON_USERNAME,\n",
    "    url=THREAT_REPORT_URL,\n",
    "    network_description_file=network_description_file,\n",
    ")"
   ]
  }
 ],
 "metadata": {
  "kernelspec": {
   "display_name": "Python 3.10.4 ('venv_bronv3')",
   "language": "python",
   "name": "python3"
  },
  "language_info": {
   "codemirror_mode": {
    "name": "ipython",
    "version": 3
   },
   "file_extension": ".py",
   "mimetype": "text/x-python",
   "name": "python",
   "nbconvert_exporter": "python",
   "pygments_lexer": "ipython3",
   "version": "3.10.4"
  },
  "vscode": {
   "interpreter": {
    "hash": "1513a78139901f91b647eadf476221d1092a12938b4350e6382bdb1fa067c847"
   }
  }
 },
 "nbformat": 4,
 "nbformat_minor": 1
}
