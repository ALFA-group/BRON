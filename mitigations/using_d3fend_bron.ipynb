{
 "metadata": {
  "language_info": {
   "codemirror_mode": {
    "name": "ipython",
    "version": 3
   },
   "file_extension": ".py",
   "mimetype": "text/x-python",
   "name": "python",
   "nbconvert_exporter": "python",
   "pygments_lexer": "ipython3",
   "version": "3.9.2"
  },
  "orig_nbformat": 4,
  "kernelspec": {
   "name": "python3",
   "display_name": "Python 3.9.2 64-bit ('BRON': conda)"
  },
  "interpreter": {
   "hash": "13bdb7a46187bd65b42643154dcbedf2349f6e9ca270e31631dd192c58e37f87"
  }
 },
 "nbformat": 4,
 "nbformat_minor": 2,
 "cells": [
  {
   "source": [
    "# How to use the BRON arangodb wit D3FEND\n",
    " \n",
    " You can view the public version of BRON with the arangodb web interface at [http:bron.alfa.csail.mit.edu:8529] with `username` `guest` and `password` `guest`.\n",
    "\n",
    " You can view D3FEND at [https://d3fend.mitre.org/]"
   ],
   "cell_type": "markdown",
   "metadata": {}
  },
  {
   "cell_type": "code",
   "execution_count": 1,
   "metadata": {},
   "outputs": [],
   "source": [
    "# Change working directory\n",
    "import os\n",
    "cwd = os.path.split(os.getcwd())\n",
    "if cwd[-1] == 'mitigations':\n",
    "    os.chdir('..')\n",
    "\n",
    "assert os.path.split(os.getcwd())[-1] == 'BRON'"
   ]
  },
  {
   "cell_type": "code",
   "execution_count": 2,
   "metadata": {},
   "outputs": [],
   "source": [
    "from graph_db.bron_arango import GUEST\n",
    "from graph_db.query_graph_db import get_connection_counts\n",
    "import sys\n",
    "from typing import Any, List\n",
    "\n",
    "import rdflib\n",
    "\n",
    "from mitigations import D3FEND_ONTOLOGY_TTL\n",
    "from graph_db.bron_example_for_detecting_abuse_of_authentication_mechanism_report import t_prog\n",
    "from graph_db.bron_example_for_detecting_abuse_of_authentication_mechanism_report import get_connection_counts\n",
    "from graph_db.bron_arango import GUEST\n",
    "from query_d3fend import count_capecs_from_mitigations, find_mitigations, find_capecs_from_mitigations_given_network"
   ]
  },
  {
   "source": [
    "# Example: Get D3FEND mitigations"
   ],
   "cell_type": "markdown",
   "metadata": {}
  },
  {
   "cell_type": "code",
   "execution_count": 3,
   "metadata": {},
   "outputs": [
    {
     "output_type": "stream",
     "name": "stdout",
     "text": [
      "Number of mitigations: 120\nCPU times: user 1.06 s, sys: 12.5 ms, total: 1.07 s\nWall time: 1.16 s\n"
     ]
    }
   ],
   "source": [
    "%%time\n",
    "g = rdflib.Graph()\n",
    "_ = g.parse(D3FEND_ONTOLOGY_TTL, format='turtle')\n",
    "mitigations = find_mitigations(g)\n",
    "print(f\"Number of mitigations: {len(mitigations)}\")"
   ]
  },
  {
   "source": [
    "# Example: Count CAPECS conected to D3FEND\n",
    "\n",
    "Do a SPARQL query to D3FEND to get techniques. Then query BRON to get CAPECs."
   ],
   "cell_type": "markdown",
   "metadata": {}
  },
  {
   "cell_type": "code",
   "execution_count": 4,
   "metadata": {},
   "outputs": [
    {
     "output_type": "stream",
     "name": "stdout",
     "text": [
      "Number of mitigations with a capec conneciton: 33\nTotal number capec connecitons: 33\nCPU times: user 1.04 s, sys: 45 ms, total: 1.09 s\nWall time: 1.85 s\n"
     ]
    }
   ],
   "source": [
    "%%time\n",
    "mitigation_capec_map = count_capecs_from_mitigations()\n",
    "print(f\"Number of mitigations with a capec conneciton: {len(mitigation_capec_map)}\")\n",
    "print(f\"Total number capec connecitons: {sum([sum(_) for _ in mitigation_capec_map.values()])}\")"
   ]
  },
  {
   "source": [
    "# Example: Recommended mitigations based on network"
   ],
   "cell_type": "markdown",
   "metadata": {}
  },
  {
   "cell_type": "code",
   "execution_count": 5,
   "metadata": {},
   "outputs": [
    {
     "output_type": "stream",
     "name": "stdout",
     "text": [
      "82\n"
     ]
    },
    {
     "output_type": "error",
     "ename": "NameError",
     "evalue": "name 'pasword' is not defined",
     "traceback": [
      "\u001b[0;31m---------------------------------------------------------------------------\u001b[0m",
      "\u001b[0;31mNameError\u001b[0m                                 Traceback (most recent call last)",
      "\u001b[0;32m<timed exec>\u001b[0m in \u001b[0;36m<module>\u001b[0;34m\u001b[0m\n",
      "\u001b[0;32m~/Documents/MIT_PostDoc/CyberSecuritySTEALTH/Kate_Xu_2020/BRON/mitigations/query_d3fend.py\u001b[0m in \u001b[0;36mfind_capecs_from_mitigations_given_network\u001b[0;34m(network_description_file, ip, password, username)\u001b[0m\n\u001b[1;32m    140\u001b[0m     \u001b[0mprint\u001b[0m\u001b[0;34m(\u001b[0m\u001b[0mlen\u001b[0m\u001b[0;34m(\u001b[0m\u001b[0mtechnique_mitigation_map\u001b[0m\u001b[0;34m)\u001b[0m\u001b[0;34m)\u001b[0m\u001b[0;34m\u001b[0m\u001b[0;34m\u001b[0m\u001b[0m\n\u001b[1;32m    141\u001b[0m     \u001b[0;31m# TODO make these params\u001b[0m\u001b[0;34m\u001b[0m\u001b[0;34m\u001b[0m\u001b[0;34m\u001b[0m\u001b[0m\n\u001b[0;32m--> 142\u001b[0;31m     \u001b[0mrecords\u001b[0m \u001b[0;34m=\u001b[0m \u001b[0mget_graph_traversal\u001b[0m\u001b[0;34m(\u001b[0m\u001b[0mlist\u001b[0m\u001b[0;34m(\u001b[0m\u001b[0mtechnique_mitigation_map\u001b[0m\u001b[0;34m.\u001b[0m\u001b[0mkeys\u001b[0m\u001b[0;34m(\u001b[0m\u001b[0;34m)\u001b[0m\u001b[0;34m)\u001b[0m\u001b[0;34m,\u001b[0m \u001b[0;34m'technique'\u001b[0m\u001b[0;34m,\u001b[0m \u001b[0mip\u001b[0m\u001b[0;34m=\u001b[0m\u001b[0mip\u001b[0m\u001b[0;34m,\u001b[0m \u001b[0mpassword\u001b[0m\u001b[0;34m=\u001b[0m\u001b[0mpasword\u001b[0m\u001b[0;34m,\u001b[0m \u001b[0musername\u001b[0m\u001b[0;34m=\u001b[0m\u001b[0musername\u001b[0m\u001b[0;34m)\u001b[0m\u001b[0;34m\u001b[0m\u001b[0;34m\u001b[0m\u001b[0m\n\u001b[0m\u001b[1;32m    143\u001b[0m     \u001b[0mresults\u001b[0m \u001b[0;34m=\u001b[0m \u001b[0;34m{\u001b[0m\u001b[0;34m'traversals'\u001b[0m\u001b[0;34m:\u001b[0m \u001b[0;34m{\u001b[0m\u001b[0;34m'capec'\u001b[0m\u001b[0;34m:\u001b[0m \u001b[0mrecords\u001b[0m\u001b[0;34m}\u001b[0m\u001b[0;34m}\u001b[0m\u001b[0;34m\u001b[0m\u001b[0;34m\u001b[0m\u001b[0m\n\u001b[1;32m    144\u001b[0m     \u001b[0mmatches\u001b[0m \u001b[0;34m=\u001b[0m \u001b[0mget_network_matches\u001b[0m\u001b[0;34m(\u001b[0m\u001b[0mresults\u001b[0m\u001b[0;34m,\u001b[0m \u001b[0mnetwork_description\u001b[0m\u001b[0;34m)\u001b[0m\u001b[0;34m\u001b[0m\u001b[0;34m\u001b[0m\u001b[0m\n",
      "\u001b[0;31mNameError\u001b[0m: name 'pasword' is not defined"
     ]
    }
   ],
   "source": [
    "%%time\n",
    "network_description_file = 'graph_db/example_data/network_file_bron.json'\n",
    "recommended_mitigations = find_capecs_from_mitigations_given_network(network_description_file)\n",
    "print(recommended_mitigations)"
   ]
  }
 ]
}