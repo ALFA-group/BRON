{
 "metadata": {
  "language_info": {
   "codemirror_mode": {
    "name": "ipython",
    "version": 3
   },
   "file_extension": ".py",
   "mimetype": "text/x-python",
   "name": "python",
   "nbconvert_exporter": "python",
   "pygments_lexer": "ipython3",
   "version": "3.9.2"
  },
  "orig_nbformat": 4,
  "kernelspec": {
   "name": "python3",
   "display_name": "Python 3.9.2 64-bit ('bron_link_prediction': conda)"
  },
  "interpreter": {
   "hash": "0197851a4aeff82f5e1e06957623cb66786300ada2caddf13143db455ebd2c4e"
  }
 },
 "nbformat": 4,
 "nbformat_minor": 2,
 "cells": [
  {
   "cell_type": "markdown",
   "source": [
    "# How to use the BRON arangodb with MITRE Engage\n",
    " \n",
    " You can view the public version of BRON with the arangodb web interface at [http:bron.alfa.csail.mit.edu:8529] with `username` `guest` and `password` `guest`.\n",
    "\n",
    " You can view MITRE Engage at [https://engage.mitre.org/]"
   ],
   "metadata": {}
  },
  {
   "cell_type": "code",
   "execution_count": 1,
   "source": [
    "# Change working directory\n",
    "import os\n",
    "cwd = os.path.split(os.getcwd())\n",
    "if cwd[-1] == 'mitigations':\n",
    "    os.chdir('..')\n",
    "\n",
    "assert \"mitigations\" in os.listdir()"
   ],
   "outputs": [],
   "metadata": {}
  },
  {
   "cell_type": "code",
   "execution_count": 2,
   "source": [
    "from graph_db.query_graph_db import get_connection_counts\n",
    "import sys\n",
    "from typing import Any, List\n",
    "\n",
    "from graph_db.bron_example_for_detecting_abuse_of_authentication_mechanism_report import t_prog\n",
    "from graph_db.bron_example_for_detecting_abuse_of_authentication_mechanism_report import get_connection_counts\n",
    "from graph_db.bron_arango import GUEST\n",
    "from query_d3fend import count_capecs_from_mitigations, find_mitigations, find_capecs_from_mitigations_given_network\n",
    "from engage_mitigations import main as main_eng\n",
    "from engage_mitigations import update_BRON_graph_db, ENGAGE_OUT_DATA_DIR\n"
   ],
   "outputs": [],
   "metadata": {}
  },
  {
   "cell_type": "markdown",
   "source": [
    "# Build Engage"
   ],
   "metadata": {}
  },
  {
   "cell_type": "code",
   "execution_count": 6,
   "source": [
    "# Get the data and link it\n",
    "os.makedirs(ENGAGE_OUT_DATA_DIR, exist_ok=True)    \n",
    "main_eng(no_download=False)"
   ],
   "outputs": [
    {
     "output_type": "stream",
     "name": "stdout",
     "text": [
      "Stored: data/mitigations/engage/goal_details.json\n",
      "Stored: data/mitigations/engage/approaches_details.json\n",
      "Stored: data/mitigations/engage/activity_details.json\n",
      "Stored: data/mitigations/engage/approach_activity_mappings.json\n",
      "Stored: data/mitigations/engage/goal_approach_mappings.json\n",
      "Stored: data/mitigations/engage/attack_groups.json\n",
      "Stored: data/mitigations/engage/attack_groups_mapped.json\n",
      "Stored: data/mitigations/engage/attack_mapping.json\n",
      "WRITE: data/mitigations/engage/bron_engage_goal.json\n",
      "WRITE: data/mitigations/engage/bron_engage_approach.json\n",
      "WRITE: data/mitigations/engage/bron_engage_activity.json\n",
      "WRITE: data/mitigations/engage/bron_engage_approach_activity_mappings.json\n",
      "WRITE: data/mitigations/engage/bron_engage_goal_approach_mappings.json\n",
      "WRITE: data/mitigations/engage/bron_engage_attack_groups.json\n",
      "WRITE: data/mitigations/engage/bron_engage_attack_groups_mapped.json\n",
      "WRITE: data/mitigations/engage/bron_engage_attack_mapping.json\n",
      "['bron_engage_attack_mapping.json', 'import_bron_engage_activity.jsonl', 'goal_approach_mappings.json', 'import_bron_engage_attack_mapping.jsonl', 'activity_details.json', 'attack_groups.json', 'attack_groups_mapped.json', 'bron_engage_goal.json', 'bron_engage_attack_groups_mapped.json', 'import_bron_engage_attack_groups.jsonl', 'bron_engage_approach.json', 'import_bron_engage_goal.jsonl', 'bron_engage_attack_groups.json', 'import_bron_engage_approach.jsonl', 'attack_mapping.json', 'goal_details.json', 'bron_engage_activity.json', 'import_bron_engage_attack_groups_mapped.jsonl', 'import_bron_engage_approach_activity_mappings.jsonl', 'bron_engage_approach_activity_mappings.json', 'approach_activity_mappings.json', 'approaches_details.json', 'import_bron_engage_goal_approach_mappings.jsonl', 'bron_engage_goal_approach_mappings.json']\n"
     ]
    }
   ],
   "metadata": {}
  },
  {
   "cell_type": "code",
   "execution_count": 3,
   "source": [
    "# Update the graph db\n",
    "# Set the password in your environment variables\n",
    "IP = \"128.52.142.248\"\n",
    "with open('.env', 'r') as fd:\n",
    "    for line in fd:\n",
    "        values = [_.strip() for _ in line.split('=')]\n",
    "        os.environ[values[0]] = values[1]\n",
    "        \n",
    "update_BRON_graph_db(os.environ[\"BRON_USER\"], os.environ[\"BRON_PWD\"], IP)"
   ],
   "outputs": [
    {
     "output_type": "error",
     "ename": "KeyError",
     "evalue": "'BRON_USER'",
     "traceback": [
      "\u001b[0;31m---------------------------------------------------------------------------\u001b[0m",
      "\u001b[0;31mKeyError\u001b[0m                                  Traceback (most recent call last)",
      "\u001b[0;32m<ipython-input-3-0b908bdd725a>\u001b[0m in \u001b[0;36m<module>\u001b[0;34m\u001b[0m\n\u001b[1;32m      2\u001b[0m \u001b[0;31m# Set the password in your environment variables\u001b[0m\u001b[0;34m\u001b[0m\u001b[0;34m\u001b[0m\u001b[0;34m\u001b[0m\u001b[0m\n\u001b[1;32m      3\u001b[0m \u001b[0mIP\u001b[0m \u001b[0;34m=\u001b[0m \u001b[0;34m\"128.52.142.248\"\u001b[0m\u001b[0;34m\u001b[0m\u001b[0;34m\u001b[0m\u001b[0m\n\u001b[0;32m----> 4\u001b[0;31m \u001b[0mupdate_BRON_graph_db\u001b[0m\u001b[0;34m(\u001b[0m\u001b[0mos\u001b[0m\u001b[0;34m.\u001b[0m\u001b[0menviron\u001b[0m\u001b[0;34m[\u001b[0m\u001b[0;34m\"BRON_USER\"\u001b[0m\u001b[0;34m]\u001b[0m\u001b[0;34m,\u001b[0m \u001b[0mos\u001b[0m\u001b[0;34m.\u001b[0m\u001b[0menviron\u001b[0m\u001b[0;34m[\u001b[0m\u001b[0;34m\"BRON_PWD\"\u001b[0m\u001b[0;34m]\u001b[0m\u001b[0;34m,\u001b[0m \u001b[0mIP\u001b[0m\u001b[0;34m)\u001b[0m\u001b[0;34m\u001b[0m\u001b[0;34m\u001b[0m\u001b[0m\n\u001b[0m",
      "\u001b[0;32m~/anaconda3/envs/bron_link_prediction/lib/python3.9/os.py\u001b[0m in \u001b[0;36m__getitem__\u001b[0;34m(self, key)\u001b[0m\n\u001b[1;32m    677\u001b[0m         \u001b[0;32mexcept\u001b[0m \u001b[0mKeyError\u001b[0m\u001b[0;34m:\u001b[0m\u001b[0;34m\u001b[0m\u001b[0;34m\u001b[0m\u001b[0m\n\u001b[1;32m    678\u001b[0m             \u001b[0;31m# raise KeyError with the original key value\u001b[0m\u001b[0;34m\u001b[0m\u001b[0;34m\u001b[0m\u001b[0;34m\u001b[0m\u001b[0m\n\u001b[0;32m--> 679\u001b[0;31m             \u001b[0;32mraise\u001b[0m \u001b[0mKeyError\u001b[0m\u001b[0;34m(\u001b[0m\u001b[0mkey\u001b[0m\u001b[0;34m)\u001b[0m \u001b[0;32mfrom\u001b[0m \u001b[0;32mNone\u001b[0m\u001b[0;34m\u001b[0m\u001b[0;34m\u001b[0m\u001b[0m\n\u001b[0m\u001b[1;32m    680\u001b[0m         \u001b[0;32mreturn\u001b[0m \u001b[0mself\u001b[0m\u001b[0;34m.\u001b[0m\u001b[0mdecodevalue\u001b[0m\u001b[0;34m(\u001b[0m\u001b[0mvalue\u001b[0m\u001b[0;34m)\u001b[0m\u001b[0;34m\u001b[0m\u001b[0;34m\u001b[0m\u001b[0m\n\u001b[1;32m    681\u001b[0m \u001b[0;34m\u001b[0m\u001b[0m\n",
      "\u001b[0;31mKeyError\u001b[0m: 'BRON_USER'"
     ]
    }
   ],
   "metadata": {}
  },
  {
   "cell_type": "markdown",
   "source": [
    "# Example: Count CAPEC connected to Engage Activities"
   ],
   "metadata": {}
  },
  {
   "cell_type": "code",
   "execution_count": 3,
   "source": [
    "%%time\n",
    "technique_capec_links = find_activities_from_techniques()\n",
    "print(f\"Number of mitigations: {len(technique_capec_links)}\")"
   ],
   "outputs": [
    {
     "output_type": "stream",
     "name": "stdout",
     "text": [
      "Number of mitigations: 120\n",
      "CPU times: user 1.06 s, sys: 12.5 ms, total: 1.07 s\n",
      "Wall time: 1.16 s\n"
     ]
    }
   ],
   "metadata": {}
  },
  {
   "cell_type": "markdown",
   "source": [
    "# Example: Count CAPECS conected to D3FEND\n",
    "\n",
    "Do a SPARQL query to D3FEND to get techniques. Then query BRON to get CAPECs."
   ],
   "metadata": {}
  },
  {
   "cell_type": "code",
   "execution_count": 4,
   "source": [
    "%%time\n",
    "mitigation_capec_map = count_capecs_from_mitigations()\n",
    "print(f\"Number of mitigations with a capec conneciton: {len(mitigation_capec_map)}\")\n",
    "print(f\"Total number capec connecitons: {sum([sum(_) for _ in mitigation_capec_map.values()])}\")"
   ],
   "outputs": [
    {
     "output_type": "stream",
     "name": "stdout",
     "text": [
      "Number of mitigations with a capec conneciton: 33\n",
      "Total number capec connecitons: 33\n",
      "CPU times: user 1.04 s, sys: 45 ms, total: 1.09 s\n",
      "Wall time: 1.85 s\n"
     ]
    }
   ],
   "metadata": {}
  },
  {
   "cell_type": "markdown",
   "source": [
    "# Example: Recommended mitigations based on network"
   ],
   "metadata": {}
  },
  {
   "cell_type": "code",
   "execution_count": 5,
   "source": [
    "%%time\n",
    "network_description_file = 'graph_db/example_data/network_file_bron.json'\n",
    "recommended_mitigations = find_capecs_from_mitigations_given_network(network_description_file)\n",
    "print(recommended_mitigations)"
   ],
   "outputs": [
    {
     "output_type": "stream",
     "name": "stdout",
     "text": [
      "82\n"
     ]
    },
    {
     "output_type": "error",
     "ename": "NameError",
     "evalue": "name 'pasword' is not defined",
     "traceback": [
      "\u001b[0;31m---------------------------------------------------------------------------\u001b[0m",
      "\u001b[0;31mNameError\u001b[0m                                 Traceback (most recent call last)",
      "\u001b[0;32m<timed exec>\u001b[0m in \u001b[0;36m<module>\u001b[0;34m\u001b[0m\n",
      "\u001b[0;32m~/Documents/MIT_PostDoc/CyberSecuritySTEALTH/Kate_Xu_2020/BRON/mitigations/query_d3fend.py\u001b[0m in \u001b[0;36mfind_capecs_from_mitigations_given_network\u001b[0;34m(network_description_file, ip, password, username)\u001b[0m\n\u001b[1;32m    140\u001b[0m     \u001b[0mprint\u001b[0m\u001b[0;34m(\u001b[0m\u001b[0mlen\u001b[0m\u001b[0;34m(\u001b[0m\u001b[0mtechnique_mitigation_map\u001b[0m\u001b[0;34m)\u001b[0m\u001b[0;34m)\u001b[0m\u001b[0;34m\u001b[0m\u001b[0;34m\u001b[0m\u001b[0m\n\u001b[1;32m    141\u001b[0m     \u001b[0;31m# TODO make these params\u001b[0m\u001b[0;34m\u001b[0m\u001b[0;34m\u001b[0m\u001b[0;34m\u001b[0m\u001b[0m\n\u001b[0;32m--> 142\u001b[0;31m     \u001b[0mrecords\u001b[0m \u001b[0;34m=\u001b[0m \u001b[0mget_graph_traversal\u001b[0m\u001b[0;34m(\u001b[0m\u001b[0mlist\u001b[0m\u001b[0;34m(\u001b[0m\u001b[0mtechnique_mitigation_map\u001b[0m\u001b[0;34m.\u001b[0m\u001b[0mkeys\u001b[0m\u001b[0;34m(\u001b[0m\u001b[0;34m)\u001b[0m\u001b[0;34m)\u001b[0m\u001b[0;34m,\u001b[0m \u001b[0;34m'technique'\u001b[0m\u001b[0;34m,\u001b[0m \u001b[0mip\u001b[0m\u001b[0;34m=\u001b[0m\u001b[0mip\u001b[0m\u001b[0;34m,\u001b[0m \u001b[0mpassword\u001b[0m\u001b[0;34m=\u001b[0m\u001b[0mpasword\u001b[0m\u001b[0;34m,\u001b[0m \u001b[0musername\u001b[0m\u001b[0;34m=\u001b[0m\u001b[0musername\u001b[0m\u001b[0;34m)\u001b[0m\u001b[0;34m\u001b[0m\u001b[0;34m\u001b[0m\u001b[0m\n\u001b[0m\u001b[1;32m    143\u001b[0m     \u001b[0mresults\u001b[0m \u001b[0;34m=\u001b[0m \u001b[0;34m{\u001b[0m\u001b[0;34m'traversals'\u001b[0m\u001b[0;34m:\u001b[0m \u001b[0;34m{\u001b[0m\u001b[0;34m'capec'\u001b[0m\u001b[0;34m:\u001b[0m \u001b[0mrecords\u001b[0m\u001b[0;34m}\u001b[0m\u001b[0;34m}\u001b[0m\u001b[0;34m\u001b[0m\u001b[0;34m\u001b[0m\u001b[0m\n\u001b[1;32m    144\u001b[0m     \u001b[0mmatches\u001b[0m \u001b[0;34m=\u001b[0m \u001b[0mget_network_matches\u001b[0m\u001b[0;34m(\u001b[0m\u001b[0mresults\u001b[0m\u001b[0;34m,\u001b[0m \u001b[0mnetwork_description\u001b[0m\u001b[0;34m)\u001b[0m\u001b[0;34m\u001b[0m\u001b[0;34m\u001b[0m\u001b[0m\n",
      "\u001b[0;31mNameError\u001b[0m: name 'pasword' is not defined"
     ]
    }
   ],
   "metadata": {}
  }
 ]
}