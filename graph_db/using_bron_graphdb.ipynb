{
 "cells": [
  {
   "cell_type": "markdown",
   "metadata": {
    "collapsed": true,
    "pycharm": {
     "name": "#%% md\n"
    }
   },
   "source": [
    " # How to use the BRON arangodb"
   ]
  },
  {
   "cell_type": "code",
   "execution_count": 1,
   "metadata": {
    "pycharm": {
     "name": "#%%\n"
    }
   },
   "outputs": [],
   "source": [
    "# Change working directory\n",
    "import os\n",
    "cwd = os.path.split(os.getcwd())\n",
    "if cwd[-1] == 'graph_db':\n",
    "    os.chdir('..')\n",
    "\n",
    "assert os.path.split(os.getcwd())[-1] == 'BRON'"
   ]
  },
  {
   "cell_type": "code",
   "execution_count": 2,
   "metadata": {
    "pycharm": {
     "name": "#%%\n"
    }
   },
   "outputs": [],
   "source": [
    "import arango\n",
    "from graph_db.bron_example_for_detecting_abuse_of_authentication_mechanism_report import main, REPORT_URL, MDR_URL, FIRE_EYE_URL\n",
    "\n",
    "SERVER_IP = 'bron.alfa.csail.mit.edu'\n",
    "USERNAME = 'guest'\n",
    "PASSWORD = 'guest'\n",
    "DB = 'BRON'"
   ]
  },
  {
   "cell_type": "markdown",
   "metadata": {
    "pycharm": {
     "name": "#%% md\n"
    }
   },
   "source": [
    "## Example connect to BRON arangodb and perform AQL query"
   ]
  },
  {
   "cell_type": "code",
   "execution_count": 3,
   "metadata": {
    "pycharm": {
     "name": "#%%\n"
    }
   },
   "outputs": [
    {
     "name": "stdout",
     "output_type": "stream",
     "text": [
      "{'_key': 'tactic_00009', '_id': 'tactic/tactic_00009', '_rev': '_bmbn28S---', 'original_id': 'TA0006', 'datatype': 'tactic', 'name': 'credential-access', 'metadata': {}}\n"
     ]
    }
   ],
   "source": [
    "query = \"\"\"\n",
    "FOR c IN tactic\n",
    "    FILTER c.original_id == \"TA0006\"\n",
    "    RETURN c\n",
    "\"\"\"\n",
    "client = arango.ArangoClient(hosts=f\"http://{SERVER_IP}:8529\")\n",
    "db = client.db(DB, username=USERNAME, password=PASSWORD, auth_method=\"basic\")\n",
    "assert db.aql.validate(query)\n",
    "cursor = db.aql.execute(query)\n",
    "for c in cursor:\n",
    "    print(c)\n"
   ]
  },
  {
   "cell_type": "code",
   "execution_count": 19,
   "metadata": {
    "pycharm": {
     "name": "#%%\n"
    }
   },
   "outputs": [
    {
     "name": "stdout",
     "output_type": "stream",
     "text": [
      "1 result for CAPEC 117 in TechniqueCapec: {'T1020.001'}\n",
      "1 result for CAPEC 117 in CapecCwe: {'319'}\n"
     ]
    }
   ],
   "source": [
    "query_template = \"\"\"\n",
    "FOR c IN capec\n",
    "    FILTER c.original_id == \"{}\"\n",
    "    FOR v IN 1..1 ANY c {}\n",
    "        RETURN v\n",
    "\"\"\"\n",
    "capec = \"117\"\n",
    "edge_collections = (\"TechniqueCapec\", \"CapecCwe\")\n",
    "for edge_collection in edge_collections:\n",
    "    query = query_template.format(capec, edge_collection)\n",
    "    assert db.aql.validate(query)\n",
    "    cursor = db.aql.execute(query)\n",
    "    results = {_['original_id'] for _ in cursor}\n",
    "    print(f'{len(results)} result for CAPEC {capec} in {edge_collection}: {results}')\n"
   ]
  },
  {
   "cell_type": "markdown",
   "metadata": {
    "pycharm": {
     "name": "#%% md\n"
    }
   },
   "source": [
    "## Example report download, threat data extraction and BRON query"
   ]
  },
  {
   "cell_type": "code",
   "execution_count": null,
   "metadata": {
    "pycharm": {
     "name": "#%%\n"
    }
   },
   "outputs": [],
   "source": [
    "url = REPORT_URL\n",
    "_ = main(SERVER_IP, PASSWORD, USERNAME, url)"
   ]
  },
  {
   "cell_type": "code",
   "execution_count": null,
   "metadata": {
    "pycharm": {
     "name": "#%%\n"
    }
   },
   "outputs": [],
   "source": [
    "url = MDR_URL\n",
    "_ = main(SERVER_IP, PASSWORD, USERNAME, url)"
   ]
  },
  {
   "cell_type": "code",
   "execution_count": null,
   "metadata": {
    "pycharm": {
     "name": "#%%\n"
    }
   },
   "outputs": [],
   "source": [
    "# TODO\n",
    "\n",
    "# Link to network\n",
    "\n",
    "# Printing of output\n",
    "\n",
    "# Using web interface instructions"
   ]
  }
 ],
 "metadata": {
  "kernelspec": {
   "display_name": "Python 3",
   "language": "python",
   "name": "python3"
  },
  "language_info": {
   "codemirror_mode": {
    "name": "ipython",
    "version": 3
   },
   "file_extension": ".py",
   "mimetype": "text/x-python",
   "name": "python",
   "nbconvert_exporter": "python",
   "pygments_lexer": "ipython3",
   "version": "3.8.2"
  }
 },
 "nbformat": 4,
 "nbformat_minor": 1
}
